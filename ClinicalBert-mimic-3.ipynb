{
 "cells": [
  {
   "cell_type": "markdown",
   "metadata": {},
   "source": [
    "# Install\n",
    "Before we begin, if you don't already have it you will need to install the following packages. Here is the install command:\n",
    "\n",
    "**transformers**: `conda install -c conda-forge transformers`\n",
    "\n",
    "It's important to note that my code differs from Kexin's because I [migrated](https://huggingface.co/transformers/migration.html) to using [HuggingFace's](https://huggingface.co/transformers/index.html) new `transformer` module instead of the formerly known as `pytorch_pretrained_bert` that the author used. "
   ]
  },
  {
   "cell_type": "markdown",
   "metadata": {},
   "source": [
    "# Read this article for ClinicalBERT\n",
    "https://arxiv.org/pdf/1904.05342.pdf\n",
    "They develop ClinicalBert by applying BERT (bidirectional encoder representations from transformers) to clinical notes. \n",
    "\n",
    "```\n",
    "@article{clinicalbert,\n",
    "author = {Kexin Huang and Jaan Altosaar and Rajesh Ranganath},\n",
    "title = {ClinicalBERT: Modeling Clinical Notes and Predicting Hospital Readmission},\n",
    "year = {2019},\n",
    "journal = {arXiv:1904.05342},\n",
    "}\n",
    "```\n",
    "\n",
    "# How My Work Differs from the Author's\n",
    "1. I am not pre-training the ClinicalBERT because the author already performed pre-training on Clinical words and the model's weights are already available.\n",
    "2. I am only working with early clinical notes. \"Discharge summaries have predictive power for readmission. However, discharge summaries might be written after a patient has left the hospital. Therefore, discharge summaries are not actionable since doctors cannot intervene when a patient has left the hospital. Models that dynamically predict readmission in the early stages of a patient's admission are relevant to clinicians...a maximum of the first 48 or 72 hours of a patient's notes are concatenated. These concatenated notes are used to predict readmission.\"[pg 12](https://arxiv.org/pdf/1904.05342.pdf)\n",
    "\n",
    "\n",
    "<img src=\"./images/fig1.png\" width=\"800\" />\n",
    "\n",
    "In this example, care providers add notes to an electronic health record during a patient’s admission, and the model dynamically updates the patient’s risk of being readmitted within a 30-day window.\n",
    "\n",
    "\n",
    "Boag et al. (2018) study the performance of the bag-of-words model, word2vec, and a Long Short-Term Memory Network (lstm) model combined with word2vec on various tasks such as diagnosis prediction and mortality risk estimation. Word embedding models such as word2vec are trained using the local context of individual words, but as clinical notes are long and their words are interdependent (Zhang et al., 2018), these methods cannot capture long-range dependencies.\n",
    "\n",
    "Clinical notes require capturing interactions between distant words.\n",
    "\n",
    "In this work, they develop a model that can predict readmission dynamically. **Making a prediction using a discharge summary at the end of a stay means that there are fewer opportunities to reduce the chance of readmission. To build a clinically-relevant model, we define a task for predicting readmission at any timepoint since a patient was admitted.**\n",
    "\n",
    "Medicine suffers from alarm fatigue (Sendelbach and Funk, 2013). This\n",
    "means useful classification rules for medicine need to have high precision (positive predictive value).\n",
    "\n",
    "Compared to a popular model of clinical text, word2vec, ClinicalBert more accurately captures clinical word similarity.\n",
    "\n",
    "ClinicalBERT is a modified BERT model: Specifically, the representations are learned\n",
    "using medical notes and further processed for downstream clinical tasks.\n",
    "* The transformer encoder architecture is based on a self-attention mechanism\n",
    "* The pre-training objective function for the model is defined using two unsupervised tasks: masked language modeling and next sentence prediction. \n",
    "* The text embeddings and model parameters are fit using stochastic optimization.\n",
    "\n",
    "<img src=\"./images/fig2.png\" width=\"800\" />\n",
    "\n",
    "ClinicalBert learns deep representations of clinical text using two unsupervised language modeling tasks: masked language modeling and\n",
    "next sentence prediction\n",
    "\n",
    "### Clinical Text Embeddings\n",
    "A clinical note input to ClinicalBert is represented as a collection of tokens. In ClinicalBert, a token in a clinical note is computed as\n",
    "the sum of the token embedding, a learned segment embedding, and a position embedding.\n",
    "\n",
    "### Pre-training ClinicalBERT\n",
    "The quality of learned representations of text depends on the text the model was trained on. BERT is trained on BooksCorpus and Wikipedia. However, these two datasets are distinct from clinical notes (where jargon and abbreviations are common). Also clinical notes have different syntax and grammar than common language in books or encyclopedias. It is hard to understand clinical notes without professional training.\n",
    "\n",
    "ClinicalBERT improves over BERT on the MIMIC-III corpus of clinical notes for \n",
    "1. Accuracy of masked language modeling a.k.a. predicting held-out tokens (86.80% vs 56.80%).\n",
    "2. Next sentence prediction (99.25% vs. 80.50%).\n",
    "The pre-training objective function based on the two tasks is the sum of the log-likelihood of the masked tokens and the log-likelihood of the binary variable indicating whether two sentences are consecutive.\n",
    "\n",
    "### Fine-tuning ClinicalBERT\n",
    "The model parameters are fine-tuned to maximize the log-likelihood of this binary classifier: equation (2)\n",
    "\n",
    "##  Empirical Study II: 30-Day Hospital Readmission Prediction\n",
    "Before the author even evaluated ClinicalBERT's performance as a model of readmission, **his initial experiment showed that the original BERT suffered in performance on the masked language modeling task on the MIMIC-III data as well as the next sentence prediction tasks. This proves the need develop models tailored to clinical data such as ClinicalBERT!**\n",
    "\n",
    "<img src=\"./images/equ3.png\" width=\"600\" />\n",
    "\n",
    "He finds that computing readmission probability using Equation (3) consistently outperforms predictions on each subsequence individually by 3–8%. This is because\n",
    "1. some subsequences (such as tokens corresponding to progress reports) do NOT contain information about readmission, whereas others do. The risk of readmission should be computed using subsequences that correlate with readmission risk, and **the effect of unimportant subsequences should be minimized**. This is accomplished by using the maximum probability over subsequences. \n",
    "2. Also noisy subsequences mislead the model and decrease performance. So they also include the average probability of readmission across subsequences. This leads to a trade-off between the mean and maximum probabilities of readmission in Equation (3).\n",
    "3. if there are a large number of subsequences for a patient with many clinical notes, there is a higher probability of having a noisy maximum probability of readmission. This means longer sequences may need to have a larger weight on the mean prediction. We include this weight as the n/c scaling factor, with c adjusting for patients with many clinical notes.\n",
    "Empirically, he found that c = 2 performs best on validation data.\n",
    "\n",
    "### Evaluation\n",
    "For validation and testing, 10% of the data is held out respectively, and 5-fold cross-validation is conducted. \n",
    "\n",
    "Each model is evaluated using three metrics:\n",
    "1. AUROC\n",
    "2. Area under the precision-recall curve\n",
    "3. Recall at precision of 80%: For the readmission task, false positives are important. To minimize the number of false positives and thus minimize the risk of alarm fatigue, he set the precision to 80% (in other words, 20% false positives out of the predicted positive class) and use the corresponding threshold to calculate recall. This leads to a clinically-relevant metric that enables us to build models that control the false positive rate. \n",
    "\n",
    "### Models\n",
    "* The training parameters are the entire encoder network, along with the classifier **`W`**\n",
    "* Note that the data labels are imbalanced: negative labels are subsampled to balance the positive readmit labels\n",
    "* ClinicalBert is trained for one epoch with batch size 4 and ee use the Adam optimizer learning rate 2 × 10−5\n",
    "*  The ClinicalBert model settings are the same as in Section 3.\n",
    "* The binary classifier is a linear layer of shape 768 × 1\n",
    "* The maximum sequence length supported by the model is set to 512, and the model is first trained using shorter sequences.\n",
    "\n",
    "<img src=\"./images/tab3.png\" width=\"600\" />\n",
    "\n",
    "Shows that ClinicalBERT outperforms it's competitors like Bag-of-words (Top 5000 TF-IDF words as features) and BiLSTM/Word2Vec in terms of precision and recall.\n",
    "\n",
    "###  Readmission Prediction With Early Clinical Notes\n",
    "Discharge summaries have predictive power for readmission. However, discharge summaries\n",
    "might be written after a patient has left the hospital. Therefore, discharge summaries are\n",
    "not actionable since doctors cannot intervene when a patient has left the hospital. Models\n",
    "that dynamically predict readmission in the early stages of a patient’s admission are relevant to clinicians.\n",
    "\n",
    "> **Note** that readmission predictions from a model are not actionable if a patient has been discharged. \n",
    "\n",
    "**24-48h**\n",
    "* In the MIMIC-III data, admission and discharge times are available, but clinical notes do not have timestamps. This is why the table headings show a range; this range shows the cutoff time for notes fed to the model from early on in a patient’s admission. For example, in the 24–48h column, the model may only take as input a patient’s notes up to 36h because of that patient’s specific admission time.\n",
    "\n",
    "**48-72h**\n",
    "* For the second set of readmission prediction experiments, a maximum of the first 48 or 72 hours of a patient’s notes are concatenated. These concatenated notes are used to predict readmission. Since we separate notes into subsequences of the same length, the training set consists of all subsequences within a maximum of 72 hours, and the model is tested given only available notes within the first 48 or 72 hours of a patient’s admission.\n",
    "* For testing 48 or 72-hour clinical note readmission prediction, patients that are discharged within 48 or 72 hours (respectively) are filtered out.\n",
    "\n",
    "### Interpretable predictions in ClinicalBert\n",
    "* ClinicalBert uses several self-attention mechanisms which can be used to inspect its predictions, by visualizing terms correlated with predictions of hospital readmission.\n",
    "    * For every clinical note input to ClinicalBert, each self-attention mechanism computes a distribution over every term in a sentence, given a query.\n",
    "    * **A high attention weight between a query and key token means the interaction between these tokens is predictive of readmission**.\n",
    "    *  In the ClinicalBert encoder, there are 144 self-attention mechanisms (or, 12 multi-head attention mechanisms for each of the 12 transformer encoders). \n",
    "  \n",
    "\n",
    "### Preprocessing\n",
    "ClinicalBert requires minimal preprocessing:\n",
    "1. First, words are converted to lowercase and\n",
    "2. line breaks are removed\n",
    "3. carriage returns are removed. \n",
    "4. De-identified the brackets \n",
    "5. remove special characters like ==, −−\n",
    "\n",
    "* The SpaCy sentence segmentation package is used to segment each note (Honnibal and Montani, 2017).\n",
    "    * Since clinical notes don't follow rigid standard language grammar, we find rule-based segmentation has better results than dependency parsing-based segmentation.\n",
    "    * Various segmentation signs that misguide rule-based segmentators are removed or replaced\n",
    "        * For example 1.2 would be removed\n",
    "        * M.D., dr. would be replaced with with MD, Dr\n",
    "    * Clinical notes can include various lab results and medications that also contain numerous rule-based separators, such as 20mg, p.o., q.d.. (where q.d. means one a day and q.o. means to take by mouth.  \n",
    "        *  To address this, segmentations that have less than 20 words are fused into the previous segmentation so that they are not singled out as different sentences."
   ]
  },
  {
   "cell_type": "markdown",
   "metadata": {},
   "source": [
    "# Preprocess.py"
   ]
  },
  {
   "cell_type": "code",
   "execution_count": 21,
   "metadata": {},
   "outputs": [
    {
     "name": "stderr",
     "output_type": "stream",
     "text": [
      "10/14/2023 22:05:49 - INFO - matplotlib.font_manager -   Failed to extract font properties from /System/Library/Fonts/Apple Color Emoji.ttc: In FT2Font: Could not set the fontsize (invalid pixel size; error code 0x17)\n",
      "10/14/2023 22:05:49 - INFO - matplotlib.font_manager -   Failed to extract font properties from /System/Library/Fonts/LastResort.otf: tuple indices must be integers or slices, not str\n",
      "10/14/2023 22:05:49 - INFO - matplotlib.font_manager -   Failed to extract font properties from /System/Library/Fonts/Supplemental/NISC18030.ttf: In FT2Font: Could not set the fontsize (invalid pixel size; error code 0x17)\n",
      "10/14/2023 22:05:49 - INFO - matplotlib.font_manager -   generated new fontManager\n"
     ]
    }
   ],
   "source": [
    "import pandas as pd\n",
    "import numpy as np\n",
    "import matplotlib.pyplot as plt"
   ]
  },
  {
   "cell_type": "markdown",
   "metadata": {},
   "source": [
    "Convert Strings to Dates.\n",
    "When converting dates, it is safer to use a datetime format. \n",
    "Setting the errors = 'coerce' flag allows for missing dates \n",
    "but it sets it to NaT (not a datetime)  when the string doesn't match the format."
   ]
  },
  {
   "cell_type": "code",
   "execution_count": 2,
   "metadata": {},
   "outputs": [],
   "source": [
    "# Load ADMISSIONS table from AWS S3 bucket\n",
    "bucket = 's3://mimic-iii-physionet'\n",
    "data_key = 'ADMISSIONS.csv.gz'\n",
    "data_location = 's3://{}/{}'.format(bucket, data_key)\n",
    "df_adm = pd.read_csv(data_location)"
   ]
  },
  {
   "cell_type": "code",
   "execution_count": 2,
   "metadata": {},
   "outputs": [],
   "source": [
    "# Load ADMISSIONS table\n",
    "df_adm = pd.read_csv('./ADMISSIONS.csv')\n",
    "#     '/Users/nwams/Documents/Machine Learning Projects/Predicting-Hospital-Readmission-using-NLP/ADMISSIONS.csv')"
   ]
  },
  {
   "cell_type": "code",
   "execution_count": 3,
   "metadata": {},
   "outputs": [],
   "source": [
    "df_adm.ADMITTIME = pd.to_datetime(df_adm.ADMITTIME, format='%Y-%m-%d %H:%M:%S', errors='coerce')\n",
    "df_adm.DISCHTIME = pd.to_datetime(df_adm.DISCHTIME, format='%Y-%m-%d %H:%M:%S', errors='coerce')\n",
    "df_adm.DEATHTIME = pd.to_datetime(df_adm.DEATHTIME, format='%Y-%m-%d %H:%M:%S', errors='coerce')"
   ]
  },
  {
   "cell_type": "markdown",
   "metadata": {},
   "source": [
    "Get the next Unplanned admission date for each patient (if it exists).\n",
    "I need to get the next admission date, if it exists.\n",
    "First I'll verify that the dates are in order.\n",
    "Then I'll use the shift() function to get the next admission date."
   ]
  },
  {
   "cell_type": "code",
   "execution_count": 4,
   "metadata": {},
   "outputs": [],
   "source": [
    "df_adm = df_adm.sort_values(['SUBJECT_ID', 'ADMITTIME'])\n",
    "df_adm = df_adm.reset_index(drop=True)\n",
    "df_adm['NEXT_ADMITTIME'] = df_adm.groupby('SUBJECT_ID').ADMITTIME.shift(-1)\n",
    "df_adm['NEXT_ADMISSION_TYPE'] = df_adm.groupby('SUBJECT_ID').ADMISSION_TYPE.shift(-1)"
   ]
  },
  {
   "cell_type": "markdown",
   "metadata": {},
   "source": [
    "Since I want to predict unplanned re-admissions I will drop (filter out) any future admissions that are ELECTIVE \n",
    "so that only EMERGENCY re-admissions are measured.\n",
    "For rows with 'elective' admissions, replace it with NaT and NaN"
   ]
  },
  {
   "cell_type": "code",
   "execution_count": 5,
   "metadata": {},
   "outputs": [],
   "source": [
    "rows = df_adm.NEXT_ADMISSION_TYPE == 'ELECTIVE'\n",
    "df_adm.loc[rows,'NEXT_ADMITTIME'] = pd.NaT\n",
    "df_adm.loc[rows,'NEXT_ADMISSION_TYPE'] = np.NaN"
   ]
  },
  {
   "cell_type": "markdown",
   "metadata": {},
   "source": [
    "It's safer to sort right before the fill incase something I did above changed the order"
   ]
  },
  {
   "cell_type": "code",
   "execution_count": 6,
   "metadata": {},
   "outputs": [],
   "source": [
    "df_adm = df_adm.sort_values(['SUBJECT_ID','ADMITTIME'])"
   ]
  },
  {
   "cell_type": "markdown",
   "metadata": {},
   "source": [
    "Backfill in the values that I removed. So copy the ADMITTIME from the last emergency \n",
    "and paste it in the NEXT_ADMITTIME for the previous emergency. \n",
    "So I am effectively ignoring/skipping the ELECTIVE admission row completely. \n",
    "Doing this will allow me to calculate the days until the next admission."
   ]
  },
  {
   "cell_type": "code",
   "execution_count": 7,
   "metadata": {},
   "outputs": [],
   "source": [
    "# Back fill. This will take a little while.\n",
    "df_adm[['NEXT_ADMITTIME','NEXT_ADMISSION_TYPE']] = df_adm.groupby(['SUBJECT_ID'])[['NEXT_ADMITTIME','NEXT_ADMISSION_TYPE']].fillna(method = 'bfill')\n",
    "\n",
    "# Calculate days until next admission\n",
    "df_adm['DAYS_NEXT_ADMIT'] = (df_adm.NEXT_ADMITTIME - df_adm.DISCHTIME).dt.total_seconds()/(24*60*60)"
   ]
  },
  {
   "cell_type": "markdown",
   "metadata": {},
   "source": [
    "### Remove NEWBORN admissions\n",
    "According to the MIMIC site \"Newborn indicates that the HADM_ID pertains to the patient's birth.\"\n",
    "\n",
    "I will remove all NEWBORN admission types because in this project I'm not interested in studying births — my primary \n",
    "interest is EMERGENCY and URGENT admissions.\n",
    "I will remove all admissions that have a DEATHTIME because in this project I'm studying re-admissions, not mortality. \n",
    "And a patient who died cannot be re-admitted."
   ]
  },
  {
   "cell_type": "code",
   "execution_count": 8,
   "metadata": {},
   "outputs": [],
   "source": [
    "df_adm = df_adm.loc[df_adm.ADMISSION_TYPE != 'NEWBORN']\n",
    "df_adm = df_adm.loc[df_adm.DEATHTIME.isnull()]"
   ]
  },
  {
   "cell_type": "markdown",
   "metadata": {},
   "source": [
    "### Make Output Label\n",
    "For this problem, we are going to classify if a patient will be admitted in the next 30 days. \n",
    "Therefore, we need to create a variable with the output label (1 = readmitted, 0 = not readmitted)."
   ]
  },
  {
   "cell_type": "code",
   "execution_count": 9,
   "metadata": {},
   "outputs": [],
   "source": [
    "df_adm['OUTPUT_LABEL'] = (df_adm.DAYS_NEXT_ADMIT < 30).astype('int')\n",
    "df_adm['DURATION'] = (df_adm['DISCHTIME']-df_adm['ADMITTIME']).dt.total_seconds()/(24*60*60)"
   ]
  },
  {
   "cell_type": "markdown",
   "metadata": {},
   "source": [
    "### Load NOTEEVENTS Table"
   ]
  },
  {
   "cell_type": "code",
   "execution_count": 10,
   "metadata": {},
   "outputs": [
    {
     "name": "stderr",
     "output_type": "stream",
     "text": [
      "/var/folders/3v/zc2p_1c14bl7t88qgks8vk_h0000gn/T/ipykernel_14609/2621365196.py:4: DtypeWarning: Columns (4,5) have mixed types. Specify dtype option on import or set low_memory=False.\n",
      "  df_notes = pd.read_csv('./NOTEEVENTS.csv')\n"
     ]
    }
   ],
   "source": [
    "# Load ADMISSIONS table from AWS S3 bucket\n",
    "#data_key = 'NOTEEVENTS.csv.gz'\n",
    "#note_location = 's3://{}/{}'.format(bucket, data_key)\n",
    "df_notes = pd.read_csv('./NOTEEVENTS.csv')"
   ]
  },
  {
   "cell_type": "code",
   "execution_count": 11,
   "metadata": {},
   "outputs": [],
   "source": [
    "# Sort by subject_ID, HAD_ID then CHARTDATE\n",
    "df_notes = df_notes.sort_values(by=['SUBJECT_ID','HADM_ID','CHARTDATE'])\n",
    "# Merge notes table to admissions table\n",
    "df_adm_notes = pd.merge(df_adm[['SUBJECT_ID','HADM_ID','ADMITTIME','DISCHTIME','DAYS_NEXT_ADMIT','NEXT_ADMITTIME','ADMISSION_TYPE','DEATHTIME','OUTPUT_LABEL','DURATION']],\n",
    "                        df_notes[['SUBJECT_ID','HADM_ID','CHARTDATE','TEXT','CATEGORY']],\n",
    "                        on = ['SUBJECT_ID','HADM_ID'],\n",
    "                        how = 'left')"
   ]
  },
  {
   "cell_type": "code",
   "execution_count": 12,
   "metadata": {},
   "outputs": [
    {
     "name": "stderr",
     "output_type": "stream",
     "text": [
      "/var/folders/3v/zc2p_1c14bl7t88qgks8vk_h0000gn/T/ipykernel_14609/3679229300.py:2: UserWarning: Pandas doesn't allow columns to be created via a new attribute name - see https://pandas.pydata.org/pandas-docs/stable/indexing.html#attribute-access\n",
      "  df_adm_notes.ADMITTIME_C = df_adm_notes.ADMITTIME.apply(lambda x: str(x).split(' ')[0])\n"
     ]
    }
   ],
   "source": [
    "# Grab date only, not the time\n",
    "df_adm_notes.ADMITTIME_C = df_adm_notes.ADMITTIME.apply(lambda x: str(x).split(' ')[0])\n",
    "\n",
    "df_adm_notes['ADMITTIME_C'] = pd.to_datetime(df_adm_notes.ADMITTIME_C, format = '%Y-%m-%d', errors = 'coerce')\n",
    "df_adm_notes['CHARTDATE'] = pd.to_datetime(df_adm_notes.CHARTDATE, format = '%Y-%m-%d', errors = 'coerce')"
   ]
  },
  {
   "cell_type": "markdown",
   "metadata": {},
   "source": [
    "Gather Discharge Summaries Only"
   ]
  },
  {
   "cell_type": "code",
   "execution_count": 13,
   "metadata": {},
   "outputs": [],
   "source": [
    "# Gather Discharge Summaries Only\n",
    "df_discharge = df_adm_notes[df_adm_notes['CATEGORY'] == 'Discharge summary']\n",
    "# multiple discharge summary for one admission -> after examination -> replicated summary -> replace with the last one\n",
    "df_discharge = (df_discharge.groupby(['SUBJECT_ID','HADM_ID']).nth(-1)).reset_index()\n",
    "df_discharge=df_discharge[df_discharge['TEXT'].notnull()]"
   ]
  },
  {
   "cell_type": "markdown",
   "metadata": {},
   "source": [
    "If Less than n days on admission notes (Early notes)"
   ]
  },
  {
   "cell_type": "code",
   "execution_count": 14,
   "metadata": {},
   "outputs": [],
   "source": [
    "def less_n_days_data(df_adm_notes, n):\n",
    "    df_less_n = df_adm_notes[\n",
    "        ((df_adm_notes['CHARTDATE'] - df_adm_notes['ADMITTIME_C']).dt.total_seconds() / (24 * 60 * 60)) < n]\n",
    "    df_less_n = df_less_n[df_less_n['TEXT'].notnull()]\n",
    "    # concatenate first\n",
    "    df_concat = pd.DataFrame(df_less_n.groupby('HADM_ID')['TEXT'].apply(lambda x: \"%s\" % ' '.join(x))).reset_index()\n",
    "    df_concat['OUTPUT_LABEL'] = df_concat['HADM_ID'].apply(\n",
    "        lambda x: df_less_n[df_less_n['HADM_ID'] == x].OUTPUT_LABEL.values[0])\n",
    "    \n",
    "    return df_concat"
   ]
  },
  {
   "cell_type": "code",
   "execution_count": 15,
   "metadata": {},
   "outputs": [],
   "source": [
    "df_less_2 = less_n_days_data(df_adm_notes, 2)\n",
    "df_less_3 = less_n_days_data(df_adm_notes, 3)"
   ]
  },
  {
   "cell_type": "code",
   "execution_count": 16,
   "metadata": {},
   "outputs": [],
   "source": [
    "import re\n",
    "\n",
    "def preprocess1(x):\n",
    "    y = re.sub('\\\\[(.*?)\\\\]', '', x)  # remove de-identified brackets\n",
    "    y = re.sub('[0-9]+\\.', '', y)  # remove 1.2. since the segmenter segments based on this\n",
    "    y = re.sub('dr\\.', 'doctor', y)\n",
    "    y = re.sub('m\\.d\\.', 'md', y)\n",
    "    y = re.sub('admission date:', '', y)\n",
    "    y = re.sub('discharge date:', '', y)\n",
    "    y = re.sub('--|__|==', '', y)\n",
    "    return y"
   ]
  },
  {
   "cell_type": "code",
   "execution_count": 17,
   "metadata": {},
   "outputs": [
    {
     "name": "stdout",
     "output_type": "stream",
     "text": [
      "Requirement already satisfied: pip in ./venv/lib/python3.11/site-packages (23.2.1)\n"
     ]
    }
   ],
   "source": [
    "!pip install --upgrade pip"
   ]
  },
  {
   "cell_type": "code",
   "execution_count": 56,
   "metadata": {},
   "outputs": [
    {
     "name": "stdout",
     "output_type": "stream",
     "text": [
      "Requirement already satisfied: tqdm in ./venv/lib/python3.11/site-packages (4.66.1)\n"
     ]
    }
   ],
   "source": [
    "!pip install tqdm"
   ]
  },
  {
   "cell_type": "code",
   "execution_count": 57,
   "metadata": {},
   "outputs": [],
   "source": [
    "from tqdm import tqdm, trange"
   ]
  },
  {
   "cell_type": "code",
   "execution_count": 26,
   "metadata": {},
   "outputs": [],
   "source": [
    "def preprocessing(df_less_n):\n",
    "    df_less_n['TEXT'] = df_less_n['TEXT'].fillna(' ')\n",
    "    df_less_n['TEXT'] = df_less_n['TEXT'].str.replace('\\n', ' ')\n",
    "    df_less_n['TEXT'] = df_less_n['TEXT'].str.replace('\\r', ' ')\n",
    "    df_less_n['TEXT'] = df_less_n['TEXT'].apply(str.strip)\n",
    "    df_less_n['TEXT'] = df_less_n['TEXT'].str.lower()\n",
    "\n",
    "    df_less_n['TEXT'] = df_less_n['TEXT'].apply(lambda x: preprocess1(x))\n",
    "\n",
    "    # to get 318 words chunks for readmission tasks\n",
    "    df_len = len(df_less_n)\n",
    "    idlst = []\n",
    "    textlst = []\n",
    "    labellst = []\n",
    "    #want = pd.DataFrame({'ID': [], 'TEXT': [], 'Label': []})\n",
    "    for i in tqdm(range(df_len)):\n",
    "        x = df_less_n.TEXT.iloc[i].split()\n",
    "        n = int(len(x) / 318)\n",
    "        for j in range(n):\n",
    "            #want = want.append\n",
    "            idlst.append(df_less_n.HADM_ID.iloc[i])\n",
    "            textlst.append(' '.join(x[j * 318:(j + 1) * 318]))\n",
    "            labellst.append(df_less_n.OUTPUT_LABEL.iloc[i])\n",
    "        if len(x) % 318 > 10:\n",
    "            #want = want.append\n",
    "            textlst.append(' '.join(x[-(len(x) % 318):]))\n",
    "            labellst.append(df_less_n.OUTPUT_LABEL.iloc[i])\n",
    "            idlst.append(df_less_n.HADM_ID.iloc[i])\n",
    "\n",
    "    return pd.DataFrame({'ID':idlst, 'TEXT':textlst, 'Label':labellst})"
   ]
  },
  {
   "cell_type": "markdown",
   "metadata": {},
   "source": [
    "The preprocessing below for the Discharge, 2-Day and 3-Day stays took about 6.5 hours on my local machine (discharge=2.5hrs, 2-day=1.5 hrs and 3-day=2.5 hrs). \n",
    "\n",
    "Uncomment the lines below (I've commented it out since I've already run preprocessing and pickled the files). "
   ]
  },
  {
   "cell_type": "code",
   "execution_count": 27,
   "metadata": {},
   "outputs": [
    {
     "name": "stderr",
     "output_type": "stream",
     "text": [
      "100%|███████████████████████████████████████████████████████████████████████████████████████████████████████████████████████████████████████████████| 43880/43880 [00:04<00:00, 10328.37it/s]\n",
      "100%|████████████████████████████████████████████████████████████████████████████████████████████████████████████████████████████████████████████████| 44112/44112 [00:05<00:00, 8069.48it/s]\n",
      "100%|████████████████████████████████████████████████████████████████████████████████████████████████████████████████████████████████████████████████| 44551/44551 [00:07<00:00, 5905.42it/s]\n"
     ]
    }
   ],
   "source": [
    "df_discharge = preprocessing(df_discharge)\n",
    "df_less_2 = preprocessing(df_less_2)\n",
    "df_less_3 = preprocessing(df_less_3)"
   ]
  },
  {
   "cell_type": "code",
   "execution_count": 28,
   "metadata": {},
   "outputs": [],
   "source": [
    "import pickle"
   ]
  },
  {
   "cell_type": "markdown",
   "metadata": {},
   "source": [
    "Let's pickle it for later use. Uncomment the code below to pickle your files. "
   ]
  },
  {
   "cell_type": "code",
   "execution_count": 30,
   "metadata": {},
   "outputs": [],
   "source": [
    "df_discharge.to_pickle(\"./pickle/df_discharge.pkl\")\n",
    "df_less_2.to_pickle(\"./pickle/df_less_2.pkl\")\n",
    "df_less_3.to_pickle(\"./pickle/df_less_3.pkl\")"
   ]
  },
  {
   "cell_type": "markdown",
   "metadata": {},
   "source": [
    "Load the pickled files, if needed"
   ]
  },
  {
   "cell_type": "code",
   "execution_count": 31,
   "metadata": {},
   "outputs": [],
   "source": [
    "df_discharge = pd.read_pickle('./pickle/df_discharge.pkl')\n",
    "df_less_2 = pd.read_pickle('./pickle/df_less_2.pkl')\n",
    "df_less_3 = pd.read_pickle('./pickle/df_less_3.pkl')"
   ]
  },
  {
   "cell_type": "code",
   "execution_count": 32,
   "metadata": {},
   "outputs": [
    {
     "data": {
      "text/plain": [
       "(216954, 3)"
      ]
     },
     "execution_count": 32,
     "metadata": {},
     "output_type": "execute_result"
    }
   ],
   "source": [
    "df_discharge.shape"
   ]
  },
  {
   "cell_type": "code",
   "execution_count": 33,
   "metadata": {},
   "outputs": [
    {
     "data": {
      "text/plain": [
       "(277443, 3)"
      ]
     },
     "execution_count": 33,
     "metadata": {},
     "output_type": "execute_result"
    }
   ],
   "source": [
    "df_less_2.shape"
   ]
  },
  {
   "cell_type": "code",
   "execution_count": 34,
   "metadata": {},
   "outputs": [
    {
     "data": {
      "text/plain": [
       "(385724, 3)"
      ]
     },
     "execution_count": 34,
     "metadata": {},
     "output_type": "execute_result"
    }
   ],
   "source": [
    "df_less_3.shape"
   ]
  },
  {
   "cell_type": "markdown",
   "metadata": {},
   "source": [
    "Discharge has 216,954 rows. \n",
    "\n",
    "2-Day has 277,443 rows.\n",
    "\n",
    "3-Day has 385,724 rows."
   ]
  },
  {
   "cell_type": "markdown",
   "metadata": {},
   "source": [
    "### Train/Test/Split\n",
    "An example to get the train/val/test split with random state:\n",
    "Note that we divide on patient admission level and share among experiments, instead of notes level.\n",
    "This way, since our methods run on the same set of admissions, we can see the progression of readmission scores."
   ]
  },
  {
   "cell_type": "code",
   "execution_count": 35,
   "metadata": {},
   "outputs": [],
   "source": [
    "readmit_ID = df_adm[df_adm.OUTPUT_LABEL == 1].HADM_ID\n",
    "not_readmit_ID = df_adm[df_adm.OUTPUT_LABEL == 0].HADM_ID\n",
    "# subsampling to get the balanced pos/neg numbers of patients for each dataset\n",
    "not_readmit_ID_use = not_readmit_ID.sample(n=len(readmit_ID), random_state=1)\n",
    "id_val_test_t = readmit_ID.sample(frac=0.2, random_state=1)\n",
    "id_val_test_f = not_readmit_ID_use.sample(frac=0.2, random_state=1)\n",
    "\n",
    "id_train_t = readmit_ID.drop(id_val_test_t.index)\n",
    "id_train_f = not_readmit_ID_use.drop(id_val_test_f.index)\n",
    "\n",
    "id_val_t = id_val_test_t.sample(frac=0.5, random_state=1)\n",
    "id_test_t = id_val_test_t.drop(id_val_t.index)\n",
    "\n",
    "id_val_f = id_val_test_f.sample(frac=0.5, random_state=1)\n",
    "id_test_f = id_val_test_f.drop(id_val_f.index)\n",
    "\n",
    "# test if there is overlap between train and test, should return \"array([], dtype=int64)\"\n",
    "(pd.Index(id_test_t).intersection(pd.Index(id_train_t))).values\n",
    "\n",
    "id_test = pd.concat([id_test_t, id_test_f])\n",
    "test_id_label = pd.DataFrame(data=list(zip(id_test, [1] * len(id_test_t) + [0] * len(id_test_f))),\n",
    "                             columns=['id', 'label'])\n",
    "\n",
    "id_val = pd.concat([id_val_t, id_val_f])\n",
    "val_id_label = pd.DataFrame(data=list(zip(id_val, [1] * len(id_val_t) + [0] * len(id_val_f))), columns=['id', 'label'])\n",
    "\n",
    "id_train = pd.concat([id_train_t, id_train_f])\n",
    "train_id_label = pd.DataFrame(data=list(zip(id_train, [1] * len(id_train_t) + [0] * len(id_train_f))),\n",
    "                              columns=['id', 'label'])"
   ]
  },
  {
   "cell_type": "markdown",
   "metadata": {},
   "source": [
    "### Get discharge train/val/test"
   ]
  },
  {
   "cell_type": "code",
   "execution_count": 36,
   "metadata": {},
   "outputs": [],
   "source": [
    "discharge_train = df_discharge[df_discharge.ID.isin(train_id_label.id)]\n",
    "discharge_val = df_discharge[df_discharge.ID.isin(val_id_label.id)]\n",
    "discharge_test = df_discharge[df_discharge.ID.isin(test_id_label.id)]"
   ]
  },
  {
   "cell_type": "markdown",
   "metadata": {},
   "source": [
    "### Subsampling for training\n",
    "Since we obtain training on patient admission level so now we have same number of pos/neg readmission but each admission is associated with different length of notes and we train on each chunks of notes, not on the admission, we need to balance the pos/neg chunks on training set. (val and test set are fine) Usually, positive admissions have longer notes, so we need find some negative chunks of notes from not_readmit_ID that we haven't used yet"
   ]
  },
  {
   "cell_type": "code",
   "execution_count": 38,
   "metadata": {},
   "outputs": [],
   "source": [
    "df = pd.concat([not_readmit_ID_use, not_readmit_ID])\n",
    "df = df.drop_duplicates(keep=False)\n",
    "# check to see if there are overlaps\n",
    "(pd.Index(df).intersection(pd.Index(not_readmit_ID_use))).values\n",
    "\n",
    "# for this set of split with random_state=1, we find we need 400 more negative training samples\n",
    "not_readmit_ID_more = df.sample(n=400, random_state=1)\n",
    "discharge_train_snippets = pd.concat([df_discharge[df_discharge.ID.isin(not_readmit_ID_more)], discharge_train])\n",
    "\n",
    "# shuffle\n",
    "discharge_train_snippets = discharge_train_snippets.sample(frac=1, random_state=1).reset_index(drop=True)\n",
    "\n",
    "# check if balanced\n",
    "discharge_train_snippets.Label.value_counts()\n",
    "\n",
    "discharge_train_snippets.to_csv('./data/discharge/train.csv')\n",
    "discharge_val.to_csv('./data/discharge/val.csv')\n",
    "discharge_test.to_csv('./data/discharge/test.csv')"
   ]
  },
  {
   "cell_type": "markdown",
   "metadata": {},
   "source": [
    "For the Early notes experiment: we only need to find training set for 3 days, then we can test both 3 days and 2 days. Since we split the data on patient level and experiments share admissions in order to see the progression, the 2 days training dataset is a subset of 3 days training set. So we only train 3 days and we can test/val on both 2 & 3 days or any time smaller than 3 days. This means if we train on a dataset with all the notes in n days, we can predict readmissions smaller than n days.\n",
    "\n",
    "### For 3 days note (similar to discharge)"
   ]
  },
  {
   "cell_type": "code",
   "execution_count": 39,
   "metadata": {},
   "outputs": [],
   "source": [
    "early_train = df_less_3[df_less_3.ID.isin(train_id_label.id)]\n",
    "not_readmit_ID_more = df.sample(n=500, random_state=1)\n",
    "early_train_snippets = pd.concat([df_less_3[df_less_3.ID.isin(not_readmit_ID_more)], early_train])\n",
    "# shuffle\n",
    "early_train_snippets = early_train_snippets.sample(frac=1, random_state=1).reset_index(drop=True)\n",
    "early_train_snippets.to_csv('./data/3days/train.csv')\n",
    "\n",
    "early_val = df_less_3[df_less_3.ID.isin(val_id_label.id)]\n",
    "early_val.to_csv('./data/3days/val.csv')\n",
    "\n",
    "# we want to test on admissions that are not discharged already. So for less than 3 days of notes experiment,\n",
    "# we filter out admissions discharged within 3 days\n",
    "actionable_ID_3days = df_adm[df_adm['DURATION'] >= 3].HADM_ID\n",
    "test_actionable_id_label = test_id_label[test_id_label.id.isin(actionable_ID_3days)]\n",
    "early_test = df_less_3[df_less_3.ID.isin(test_actionable_id_label.id)]\n",
    "\n",
    "early_test.to_csv('./data/3days/test.csv')"
   ]
  },
  {
   "cell_type": "markdown",
   "metadata": {},
   "source": [
    "### For 2 days notes\n",
    "For 2 days notes we only obtain test set. Since the model parameters are tuned on the val set of 3 days."
   ]
  },
  {
   "cell_type": "code",
   "execution_count": 40,
   "metadata": {},
   "outputs": [],
   "source": [
    "actionable_ID_2days = df_adm[df_adm['DURATION'] >= 2].HADM_ID\n",
    "test_actionable_id_label_2days = test_id_label[test_id_label.id.isin(actionable_ID_2days)]\n",
    "early_test_2days = df_less_2[df_less_2.ID.isin(test_actionable_id_label_2days.id)]\n",
    "early_test_2days.to_csv('./data/2days/test.csv')"
   ]
  },
  {
   "cell_type": "markdown",
   "metadata": {},
   "source": [
    "# Run Model for Predicting Readmission Using Early Notes"
   ]
  },
  {
   "cell_type": "code",
   "execution_count": 1,
   "metadata": {},
   "outputs": [
    {
     "name": "stdout",
     "output_type": "stream",
     "text": [
      "Collecting torch\n",
      "  Obtaining dependency information for torch from https://files.pythonhosted.org/packages/7b/7c/4d8728e6f8dbe2b8af054bd92c290d94c633270443514e3ee4b768125cf9/torch-2.1.0-cp311-none-macosx_11_0_arm64.whl.metadata\n",
      "  Downloading torch-2.1.0-cp311-none-macosx_11_0_arm64.whl.metadata (24 kB)\n",
      "Requirement already satisfied: filelock in ./venv/lib/python3.11/site-packages (from torch) (3.12.4)\n",
      "Requirement already satisfied: typing-extensions in ./venv/lib/python3.11/site-packages (from torch) (4.8.0)\n",
      "Collecting sympy (from torch)\n",
      "  Using cached sympy-1.12-py3-none-any.whl (5.7 MB)\n",
      "Collecting networkx (from torch)\n",
      "  Using cached networkx-3.1-py3-none-any.whl (2.1 MB)\n",
      "Requirement already satisfied: jinja2 in ./venv/lib/python3.11/site-packages (from torch) (3.1.2)\n",
      "Requirement already satisfied: fsspec in ./venv/lib/python3.11/site-packages (from torch) (2023.9.2)\n",
      "Requirement already satisfied: MarkupSafe>=2.0 in ./venv/lib/python3.11/site-packages (from jinja2->torch) (2.1.3)\n",
      "Collecting mpmath>=0.19 (from sympy->torch)\n",
      "  Using cached mpmath-1.3.0-py3-none-any.whl (536 kB)\n",
      "Downloading torch-2.1.0-cp311-none-macosx_11_0_arm64.whl (59.6 MB)\n",
      "\u001b[2K   \u001b[90m━━━━━━━━━━━━━━━━━━━━━━━━━━━━━━━━━━━━━━━━\u001b[0m \u001b[32m59.6/59.6 MB\u001b[0m \u001b[31m23.9 MB/s\u001b[0m eta \u001b[36m0:00:00\u001b[0m00:01\u001b[0m00:01\u001b[0m\n",
      "\u001b[?25hInstalling collected packages: mpmath, sympy, networkx, torch\n",
      "Successfully installed mpmath-1.3.0 networkx-3.1 sympy-1.12 torch-2.1.0\n"
     ]
    }
   ],
   "source": [
    "!pip install torch"
   ]
  },
  {
   "cell_type": "code",
   "execution_count": 2,
   "metadata": {},
   "outputs": [],
   "source": [
    "import torch"
   ]
  },
  {
   "cell_type": "markdown",
   "metadata": {},
   "source": [
    "### Device-Agnostic PyTorch code (GPU or CPU)\n",
    "A `torch.device` is an object representing the device on which a `torch.Tensor` is or will be allocated. [[Docs](https://pytorch.org/docs/stable/tensor_attributes.html#torch.torch.device)]. The `torch.device` contains a device type (`'cpu'` or `'cuda'`).\n",
    "Due to the structure of PyTorch, you may need to explicitly write device-agnostic (CPU or GPU) code [[Docs](https://pytorch.org/docs/stable/notes/cuda.html)]. The first step is to determine whether the GPU should be used or not.\n",
    "\n",
    "`torch.cuda.is_available` returns a bool indicating if CUDA is currently available [[Docs](https://pytorch.org/docs/stable/cuda.html#torch.cuda.is_available)]. \n",
    "\n",
    "I will set my values below so that my code is **Device-agnostic** but feel free to change them for your specific needs."
   ]
  },
  {
   "cell_type": "code",
   "execution_count": 7,
   "metadata": {},
   "outputs": [],
   "source": [
    "local_rank = -1\n",
    "no_mps = False # Set flag to True to disable MPS Metal Performance Shaders"
   ]
  },
  {
   "cell_type": "code",
   "execution_count": 10,
   "metadata": {},
   "outputs": [],
   "source": [
    "if local_rank == -1 or no_mps:\n",
    "    device = torch.device(\"mps\" if torch.backends.mps.is_available() and not no_mps else \"cpu\")\n",
    "    n_gpu = 1 #torch.mps.device_count()\n",
    "else:\n",
    "    device = torch.device(\"mps\")\n",
    "    n_gpu = 1\n",
    "    # Initializes the distributed backend which will take care of sychronizing nodes/GPUs\n",
    "    torch.distributed.init_process_group(backend='nccl')"
   ]
  },
  {
   "cell_type": "code",
   "execution_count": 11,
   "metadata": {},
   "outputs": [],
   "source": [
    "import logging\n",
    "logging.basicConfig(format = '%(asctime)s - %(levelname)s - %(name)s -   %(message)s', \n",
    "                    datefmt = '%m/%d/%Y %H:%M:%S',\n",
    "                    level = logging.INFO)\n",
    "logger = logging.getLogger(__name__)"
   ]
  },
  {
   "cell_type": "code",
   "execution_count": 12,
   "metadata": {},
   "outputs": [
    {
     "name": "stderr",
     "output_type": "stream",
     "text": [
      "10/14/2023 22:02:47 - INFO - __main__ -   device: mps n_gpu: 1 Distributed training: False\n"
     ]
    }
   ],
   "source": [
    "logger.info(\"device: %s n_gpu: %d Distributed training: %r\", device, n_gpu, bool(local_rank != -1))"
   ]
  },
  {
   "cell_type": "markdown",
   "metadata": {},
   "source": [
    "**Accumulating gradients** just means that, before calling `optimizer.step()` to perform a step of gradient descent, we will sum the gradients of several backward operations in the `parameter.grad` tensors. \n",
    "\n",
    "Below I set the number of update steps to accumulate before performing a backward/update pass. I will set it to a default of 1. Feel free to change if needed."
   ]
  },
  {
   "cell_type": "code",
   "execution_count": 13,
   "metadata": {},
   "outputs": [],
   "source": [
    "gradient_accumulation_steps = 1"
   ]
  },
  {
   "cell_type": "code",
   "execution_count": 14,
   "metadata": {},
   "outputs": [],
   "source": [
    "if gradient_accumulation_steps < 1:\n",
    "    raise ValueError(\"Invalid gradient_accumulation_steps parameter: {}, should be >= 1\".format(gradient_accumulation_steps))"
   ]
  },
  {
   "cell_type": "markdown",
   "metadata": {},
   "source": [
    "Set the default Total Batch Size for training to 32."
   ]
  },
  {
   "cell_type": "code",
   "execution_count": 15,
   "metadata": {},
   "outputs": [],
   "source": [
    "train_batch_size = 32"
   ]
  },
  {
   "cell_type": "code",
   "execution_count": 16,
   "metadata": {},
   "outputs": [],
   "source": [
    "train_batch_size = int(train_batch_size / gradient_accumulation_steps)"
   ]
  },
  {
   "cell_type": "code",
   "execution_count": 17,
   "metadata": {},
   "outputs": [],
   "source": [
    "seed= 42 # random seed for initialization\n",
    "do_train = False # Whether to run training\n",
    "do_eval = True # Whether to run eval on the dev set.\n",
    "output_dir = './result_early' # The output directory where the model checkpoints will be written"
   ]
  },
  {
   "cell_type": "code",
   "execution_count": 18,
   "metadata": {},
   "outputs": [],
   "source": [
    "import os\n",
    "import random"
   ]
  },
  {
   "cell_type": "markdown",
   "metadata": {},
   "source": [
    "Create the `result_early` folder where results will go."
   ]
  },
  {
   "cell_type": "code",
   "execution_count": 22,
   "metadata": {},
   "outputs": [],
   "source": [
    "random.seed(seed)\n",
    "np.random.seed(seed)\n",
    "torch.manual_seed(seed)\n",
    "\n",
    "if n_gpu > 0:\n",
    "    #torch.cuda.manual_seed_all(seed)\n",
    "    torch.backends.mps.torch.manual_seed(seed)\n",
    "\n",
    "if not do_train and not do_eval:\n",
    "    raise ValueError(\"At least one of `do_train` or `do_eval` must be True.\")\n",
    "\n",
    "if os.path.exists(output_dir) and os.listdir(output_dir):\n",
    "    raise ValueError(\"Output directory ({}) already exists and is not empty.\".format(output_dir))\n",
    "\n",
    "os.makedirs(output_dir, exist_ok=True)"
   ]
  },
  {
   "cell_type": "markdown",
   "metadata": {},
   "source": [
    "# Defining Classes Needed for Processing Readmissions"
   ]
  },
  {
   "cell_type": "code",
   "execution_count": 23,
   "metadata": {},
   "outputs": [],
   "source": [
    "class InputExample(object):\n",
    "    \"\"\"A single training/test example for simple sequence classification.\"\"\"\n",
    "\n",
    "    def __init__(self, guid, text_a, text_b=None, label=None):\n",
    "        \"\"\"Constructs a InputExample.\n",
    "\n",
    "        Args:\n",
    "            guid: Unique id for the example.\n",
    "            text_a: string. The untokenized text of the first sequence. For single\n",
    "            sequence tasks, only this sequence must be specified.\n",
    "            text_b: (Optional) string. The untokenized text of the second sequence.\n",
    "            Only must be specified for sequence pair tasks.\n",
    "            label: (Optional) string. The label of the example. This should be\n",
    "            specified for train and dev examples, but not for test examples.\n",
    "        \"\"\"\n",
    "        self.guid = guid\n",
    "        self.text_a = text_a\n",
    "        self.text_b = text_b\n",
    "        self.label = label"
   ]
  },
  {
   "cell_type": "code",
   "execution_count": 24,
   "metadata": {},
   "outputs": [],
   "source": [
    "class DataProcessor(object):\n",
    "    \"\"\"Base class for data converters for sequence classification data sets.\"\"\"\n",
    "\n",
    "    def get_train_examples(self, data_dir):\n",
    "        \"\"\"Gets a collection of `InputExample`s for the train set.\"\"\"\n",
    "        raise NotImplementedError()\n",
    "\n",
    "    def get_dev_examples(self, data_dir):\n",
    "        \"\"\"Gets a collection of `InputExample`s for the dev set.\"\"\"\n",
    "        raise NotImplementedError()\n",
    "\n",
    "    def get_labels(self):\n",
    "        \"\"\"Gets the list of labels for this data set.\"\"\"\n",
    "        raise NotImplementedError()\n",
    "\n",
    "    @classmethod\n",
    "    def _read_tsv(cls, input_file, quotechar=None):\n",
    "        \"\"\"Reads a tab separated value file.\"\"\"\n",
    "        with open(input_file, \"r\") as f:\n",
    "            reader = csv.reader(f, delimiter=\"\\t\", quotechar=quotechar)\n",
    "            lines = []\n",
    "            for line in reader:\n",
    "                lines.append(line)\n",
    "            return lines\n",
    "        \n",
    "    @classmethod\n",
    "    def _read_csv(cls, input_file):\n",
    "        \"\"\"Reads a comma separated value file.\"\"\"\n",
    "        file=pd.read_csv(input_file)\n",
    "        lines=zip(file.ID,file.TEXT,file.Label)\n",
    "        return lines"
   ]
  },
  {
   "cell_type": "code",
   "execution_count": 25,
   "metadata": {},
   "outputs": [],
   "source": [
    "class readmissionProcessor(DataProcessor):\n",
    "    def get_train_examples(self, data_dir):\n",
    "        logger.info(\"LOOKING AT {}\".format(os.path.join(data_dir, \"train.csv\")))\n",
    "        return self._create_examples(self._read_csv(os.path.join(data_dir, \"train.csv\")), \"train\")\n",
    "    \n",
    "    def get_dev_examples(self, data_dir):\n",
    "        return self._create_examples(self._read_csv(os.path.join(data_dir, \"val.csv\")), \"val\")\n",
    "    \n",
    "    def get_test_examples(self, data_dir):\n",
    "        return self._create_examples(self._read_csv(os.path.join(data_dir, \"test.csv\")), \"test\")\n",
    "    \n",
    "    def get_labels(self):\n",
    "        return [\"0\", \"1\"]\n",
    "    \n",
    "    def _create_examples(self, lines, set_type):\n",
    "        \"\"\"Creates examples for the training and dev sets.\"\"\"\n",
    "        examples = []\n",
    "        for (i, line) in enumerate(lines):\n",
    "            guid = \"%s-%s\" % (set_type, i)\n",
    "            text_a = line[1]\n",
    "            label = str(int(line[2])) \n",
    "            examples.append(InputExample(guid=guid, text_a=text_a, text_b=None, label=label))\n",
    "        return examples"
   ]
  },
  {
   "cell_type": "code",
   "execution_count": 26,
   "metadata": {},
   "outputs": [],
   "source": [
    "processor = readmissionProcessor()"
   ]
  },
  {
   "cell_type": "code",
   "execution_count": 27,
   "metadata": {},
   "outputs": [],
   "source": [
    "label_list = processor.get_labels() # label_list = ['0', '1']"
   ]
  },
  {
   "cell_type": "code",
   "execution_count": 28,
   "metadata": {},
   "outputs": [
    {
     "name": "stdout",
     "output_type": "stream",
     "text": [
      "Requirement already satisfied: transformers in ./venv/lib/python3.11/site-packages (4.34.0)\n",
      "Requirement already satisfied: filelock in ./venv/lib/python3.11/site-packages (from transformers) (3.12.4)\n",
      "Requirement already satisfied: huggingface-hub<1.0,>=0.16.4 in ./venv/lib/python3.11/site-packages (from transformers) (0.17.3)\n",
      "Requirement already satisfied: numpy>=1.17 in ./venv/lib/python3.11/site-packages (from transformers) (1.26.1)\n",
      "Requirement already satisfied: packaging>=20.0 in ./venv/lib/python3.11/site-packages (from transformers) (23.2)\n",
      "Requirement already satisfied: pyyaml>=5.1 in ./venv/lib/python3.11/site-packages (from transformers) (6.0.1)\n",
      "Requirement already satisfied: regex!=2019.12.17 in ./venv/lib/python3.11/site-packages (from transformers) (2023.10.3)\n",
      "Requirement already satisfied: requests in ./venv/lib/python3.11/site-packages (from transformers) (2.31.0)\n",
      "Requirement already satisfied: tokenizers<0.15,>=0.14 in ./venv/lib/python3.11/site-packages (from transformers) (0.14.1)\n",
      "Requirement already satisfied: safetensors>=0.3.1 in ./venv/lib/python3.11/site-packages (from transformers) (0.4.0)\n",
      "Requirement already satisfied: tqdm>=4.27 in ./venv/lib/python3.11/site-packages (from transformers) (4.66.1)\n",
      "Requirement already satisfied: fsspec in ./venv/lib/python3.11/site-packages (from huggingface-hub<1.0,>=0.16.4->transformers) (2023.9.2)\n",
      "Requirement already satisfied: typing-extensions>=3.7.4.3 in ./venv/lib/python3.11/site-packages (from huggingface-hub<1.0,>=0.16.4->transformers) (4.8.0)\n",
      "Requirement already satisfied: charset-normalizer<4,>=2 in ./venv/lib/python3.11/site-packages (from requests->transformers) (3.3.0)\n",
      "Requirement already satisfied: idna<4,>=2.5 in ./venv/lib/python3.11/site-packages (from requests->transformers) (3.4)\n",
      "Requirement already satisfied: urllib3<3,>=1.21.1 in ./venv/lib/python3.11/site-packages (from requests->transformers) (2.0.6)\n",
      "Requirement already satisfied: certifi>=2017.4.17 in ./venv/lib/python3.11/site-packages (from requests->transformers) (2023.7.22)\n"
     ]
    }
   ],
   "source": [
    "!pip install transformers"
   ]
  },
  {
   "cell_type": "code",
   "execution_count": 29,
   "metadata": {},
   "outputs": [
    {
     "name": "stderr",
     "output_type": "stream",
     "text": [
      "/Users/kuldeepsingh/Work/github/ClinicalBERT-Deep-Learning--Predicting-Hospital-Readmission-Using-Transformer/venv/lib/python3.11/site-packages/tqdm/auto.py:21: TqdmWarning: IProgress not found. Please update jupyter and ipywidgets. See https://ipywidgets.readthedocs.io/en/stable/user_install.html\n",
      "  from .autonotebook import tqdm as notebook_tqdm\n"
     ]
    }
   ],
   "source": [
    "from transformers import BertTokenizer"
   ]
  },
  {
   "cell_type": "markdown",
   "metadata": {},
   "source": [
    "### Tokenization\n",
    "During tokenization, each word in the sentence is broken apart into smaller and smaller tokens (word pieces) until all the tokens in the dataset are recognized by the Transformer."
   ]
  },
  {
   "cell_type": "code",
   "execution_count": 30,
   "metadata": {},
   "outputs": [
    {
     "name": "stderr",
     "output_type": "stream",
     "text": [
      "Downloading (…)okenizer_config.json: 100%|███████████████████████████████████████████████████████████████████████████████████████████████████████████████| 28.0/28.0 [00:00<00:00, 49.7kB/s]\n",
      "Downloading (…)solve/main/vocab.txt: 100%|███████████████████████████████████████████████████████████████████████████████████████████████████████████████| 232k/232k [00:00<00:00, 1.93MB/s]\n",
      "Downloading (…)/main/tokenizer.json: 100%|███████████████████████████████████████████████████████████████████████████████████████████████████████████████| 466k/466k [00:00<00:00, 2.54MB/s]\n",
      "Downloading (…)lve/main/config.json: 100%|█████████████████████████████████████████████████████████████████████████████████████████████████████████████████| 570/570 [00:00<00:00, 1.49MB/s]\n"
     ]
    }
   ],
   "source": [
    "tokenizer = BertTokenizer.from_pretrained('bert-base-uncased') "
   ]
  },
  {
   "cell_type": "markdown",
   "metadata": {},
   "source": [
    "Set the input data directory. Should contain the .tsv files (or other data files) for the readmission task."
   ]
  },
  {
   "cell_type": "code",
   "execution_count": 31,
   "metadata": {},
   "outputs": [],
   "source": [
    "data_dir = './data/2days/'"
   ]
  },
  {
   "cell_type": "markdown",
   "metadata": {},
   "source": [
    "The code below is only needed if you want to pre-train ClinicalBERT. If you want to perform pre-training of BERT yourself, you should have set the variable `do_train` earlier to `True`. "
   ]
  },
  {
   "cell_type": "code",
   "execution_count": 32,
   "metadata": {},
   "outputs": [],
   "source": [
    "train_examples = None\n",
    "num_train_steps = None\n",
    "if do_train:\n",
    "    train_examples = processor.get_train_examples(data_dir)\n",
    "    num_train_steps = int(\n",
    "        len(train_examples) / train_batch_size / gradient_accumulation_steps * num_train_epochs)"
   ]
  },
  {
   "cell_type": "markdown",
   "metadata": {},
   "source": [
    "# Prepare Model\n",
    "To import a custom module into Jupyter notebook, use sys.path.append because Jupyter doesn't always see/find the module you uploaded. Thanks to this Stack Overflow [answer](https://stackoverflow.com/questions/53049195/importing-custom-module-into-jupyter-notebook). "
   ]
  },
  {
   "cell_type": "code",
   "execution_count": 33,
   "metadata": {},
   "outputs": [],
   "source": [
    "import sys"
   ]
  },
  {
   "cell_type": "code",
   "execution_count": 34,
   "metadata": {},
   "outputs": [],
   "source": [
    "sys.path.append('./')"
   ]
  },
  {
   "cell_type": "code",
   "execution_count": 36,
   "metadata": {},
   "outputs": [
    {
     "name": "stdout",
     "output_type": "stream",
     "text": [
      "in the modeling class\n"
     ]
    }
   ],
   "source": [
    "from modeling_readmission import BertForSequenceClassification"
   ]
  },
  {
   "cell_type": "markdown",
   "metadata": {},
   "source": [
    "`bert_model` is the Bert pre-trained model selected from the list: \n",
    "* bert-base-uncased\n",
    "* bert-large-uncased\n",
    "* bert-base-cased\n",
    "* bert-base-multilingual\n",
    "* bert-base-chinese"
   ]
  },
  {
   "cell_type": "markdown",
   "metadata": {},
   "source": [
    "The main breaking change when migrating from pytorch-pretrained-bert to transformers is that the models forward method always outputs a tuple with various elements depending on the model and the configuration parameters."
   ]
  },
  {
   "cell_type": "code",
   "execution_count": 37,
   "metadata": {},
   "outputs": [],
   "source": [
    "bert_model='./model/early_readmission'"
   ]
  },
  {
   "cell_type": "code",
   "execution_count": 39,
   "metadata": {},
   "outputs": [
    {
     "name": "stderr",
     "output_type": "stream",
     "text": [
      "10/14/2023 22:08:27 - INFO - modeling_readmission -   loading archive file ./model/early_readmission\n",
      "10/14/2023 22:08:27 - INFO - modeling_readmission -   Model config {\n",
      "  \"attention_probs_dropout_prob\": 0.1,\n",
      "  \"hidden_act\": \"gelu\",\n",
      "  \"hidden_dropout_prob\": 0.1,\n",
      "  \"hidden_size\": 768,\n",
      "  \"initializer_range\": 0.02,\n",
      "  \"intermediate_size\": 3072,\n",
      "  \"max_position_embeddings\": 512,\n",
      "  \"num_attention_heads\": 12,\n",
      "  \"num_hidden_layers\": 12,\n",
      "  \"type_vocab_size\": 2,\n",
      "  \"vocab_size\": 30522\n",
      "}\n",
      "\n"
     ]
    }
   ],
   "source": [
    "model = BertForSequenceClassification.from_pretrained(bert_model, 1)"
   ]
  },
  {
   "cell_type": "code",
   "execution_count": 40,
   "metadata": {},
   "outputs": [
    {
     "data": {
      "text/plain": [
       "BertForSequenceClassification(\n",
       "  (bert): BertModel(\n",
       "    (embeddings): BertEmbeddings(\n",
       "      (word_embeddings): Embedding(30522, 768)\n",
       "      (position_embeddings): Embedding(512, 768)\n",
       "      (token_type_embeddings): Embedding(2, 768)\n",
       "      (LayerNorm): BertLayerNorm()\n",
       "      (dropout): Dropout(p=0.1, inplace=False)\n",
       "    )\n",
       "    (encoder): BertEncoder(\n",
       "      (layer): ModuleList(\n",
       "        (0-11): 12 x BertLayer(\n",
       "          (attention): BertAttention(\n",
       "            (self): BertSelfAttention(\n",
       "              (query): Linear(in_features=768, out_features=768, bias=True)\n",
       "              (key): Linear(in_features=768, out_features=768, bias=True)\n",
       "              (value): Linear(in_features=768, out_features=768, bias=True)\n",
       "              (dropout): Dropout(p=0.1, inplace=False)\n",
       "            )\n",
       "            (output): BertSelfOutput(\n",
       "              (dense): Linear(in_features=768, out_features=768, bias=True)\n",
       "              (LayerNorm): BertLayerNorm()\n",
       "              (dropout): Dropout(p=0.1, inplace=False)\n",
       "            )\n",
       "          )\n",
       "          (intermediate): BertIntermediate(\n",
       "            (dense): Linear(in_features=768, out_features=3072, bias=True)\n",
       "          )\n",
       "          (output): BertOutput(\n",
       "            (dense): Linear(in_features=3072, out_features=768, bias=True)\n",
       "            (LayerNorm): BertLayerNorm()\n",
       "            (dropout): Dropout(p=0.1, inplace=False)\n",
       "          )\n",
       "        )\n",
       "      )\n",
       "    )\n",
       "    (pooler): BertPooler(\n",
       "      (dense): Linear(in_features=768, out_features=768, bias=True)\n",
       "      (activation): Tanh()\n",
       "    )\n",
       "  )\n",
       "  (dropout): Dropout(p=0.1, inplace=False)\n",
       "  (classifier): Linear(in_features=768, out_features=1, bias=True)\n",
       ")"
      ]
     },
     "execution_count": 40,
     "metadata": {},
     "output_type": "execute_result"
    }
   ],
   "source": [
    "# Send data to the chosen device\n",
    "model.to(device)"
   ]
  },
  {
   "cell_type": "markdown",
   "metadata": {},
   "source": [
    "[`DistributedDataParallel`](https://pytorch.org/tutorials/intermediate/ddp_tutorial.html#comparison-between-dataparallel-and-distributeddataparallel) (DDP) implements data parallelism at the module level. It synchronizes gradients, parameters, and buffers. If your model is too large to fit on a single GPU, you must use model parallel to split it across multiple GPUs. DDP works with model parallel. DDP is multi-process and works for both single- and multi-machine training."
   ]
  },
  {
   "cell_type": "code",
   "execution_count": 41,
   "metadata": {},
   "outputs": [],
   "source": [
    "if local_rank != -1:\n",
    "    model = torch.nn.parallel.DistributedDataParallel(model, device_ids=[local_rank], output_device=local_rank)\n",
    "elif n_gpu > 1:\n",
    "    model = torch.nn.DataParallel(model)"
   ]
  },
  {
   "cell_type": "markdown",
   "metadata": {},
   "source": [
    "# Prepare the Optimizer - AdamW (Weight Decay with Adam)"
   ]
  },
  {
   "cell_type": "markdown",
   "metadata": {},
   "source": [
    "## *** Skip this section if you're using Pre-trained BERT and have set the flag `do_train`=False"
   ]
  },
  {
   "cell_type": "markdown",
   "metadata": {},
   "source": [
    "Training the BERT baseline model is typically done with AdamW, a variant of the Adam optimizer with weight decay as the optimizer. \n",
    "\n",
    ">At its heart, Adam is a simple and intuitive idea: why use the same learning rate for every parameter, when we know that some surely need to be moved further and faster than others? Since the square of recent gradients tells us how much signal we’re getting for each weight, we can just divide by that to ensure even the most sluggish weights get their chance to shine. Adam takes that idea, adds on the standard approach to momentum, and (with a little tweak to keep early batches from being biased) that’s it!...We should use **weight decay** with Adam, and not the L2 regularization that classic deep learning libraries implement [[fast.ai](https://www.fast.ai/2018/07/02/adam-weight-decay/#understanding-adamw-weight-decay-or-l2-regularization)].\n",
    "\n",
    "* `optimize_on_cpu` is whether to perform optimization and keep the optimizer averages on CPU.\n",
    "* `learning_rate` is the initial learning rate for Adam.\n",
    "* `warmup_proportion` is the proportion of training to perform linear learning rate warmup for."
   ]
  },
  {
   "cell_type": "code",
   "execution_count": 59,
   "metadata": {},
   "outputs": [],
   "source": [
    "optimize_on_cpu = False\n",
    "learning_rate = 5e-5\n",
    "warmup_proportion = 0.1\n",
    "\n",
    "# num_warmup_steps = warmup_proportion * float(num_train_steps"
   ]
  },
  {
   "cell_type": "code",
   "execution_count": 60,
   "metadata": {},
   "outputs": [],
   "source": [
    "global_step = 0\n",
    "train_loss=100000\n",
    "number_training_steps=1\n",
    "global_step_check=0\n",
    "train_loss_history=[]"
   ]
  },
  {
   "cell_type": "markdown",
   "metadata": {},
   "source": [
    "Uncomment the cells below to run AdamW optimizer if training."
   ]
  },
  {
   "cell_type": "code",
   "execution_count": 75,
   "metadata": {},
   "outputs": [],
   "source": [
    "# from transformers import AdamW, get_linear_schedule_with_warmup"
   ]
  },
  {
   "cell_type": "code",
   "execution_count": 76,
   "metadata": {},
   "outputs": [],
   "source": [
    "# if optimize_on_cpu:\n",
    "#     param_optimizer = [(n, param.clone().detach().to('cpu').requires_grad_()) \\\n",
    "#                         for n, param in model.named_parameters()]\n",
    "# else:\n",
    "#     param_optimizer = list(model.named_parameters())\n",
    "# no_decay = ['bias', 'gamma', 'beta']\n",
    "# optimizer_grouped_parameters = [\n",
    "#     {'params': [p for n, p in param_optimizer if not any(nd in n for nd in no_decay)], 'weight_decay_rate': 0.01},\n",
    "#     {'params': [p for n, p in param_optimizer if any(nd in n for nd in no_decay)], 'weight_decay_rate': 0.0}\n",
    "#     ]\n",
    "\n",
    "# optimizer = AdamW(optimizer_grouped_parameters,\n",
    "#                      lr=learning_rate,\n",
    "#                      correct_bias=False)  # To reproduce old BertAdam specific behavior set correct_bias=False\n",
    "\n",
    "# # PyTorch scheduler\n",
    "# scheduler = get_linear_schedule_with_warmup(optimizer, \n",
    "#                                             num_warmup_steps=num_warmup_steps,\n",
    "#                                             num_training_steps=num_training_steps) \n",
    "\n",
    "# if do_train:\n",
    "#     train_features = convert_examples_to_features(\n",
    "#         train_examples, label_list, max_seq_length, tokenizer)\n",
    "#     logger.info(\"***** Running training *****\")\n",
    "#     logger.info(\"  Num examples = %d\", len(train_examples))\n",
    "#     logger.info(\"  Batch size = %d\", train_batch_size)\n",
    "#     logger.info(\"  Num steps = %d\", num_train_steps)\n",
    "#     all_input_ids = torch.tensor([f.input_ids for f in train_features], dtype=torch.long)\n",
    "#     all_input_mask = torch.tensor([f.input_mask for f in train_features], dtype=torch.long)\n",
    "#     all_segment_ids = torch.tensor([f.segment_ids for f in train_features], dtype=torch.long)\n",
    "#     all_label_ids = torch.tensor([f.label_id for f in train_features], dtype=torch.long)\n",
    "#     train_data = TensorDataset(all_input_ids, all_input_mask, all_segment_ids, all_label_ids)\n",
    "#     if local_rank == -1:\n",
    "#         train_sampler = RandomSampler(train_data)\n",
    "#     else:\n",
    "#         train_sampler = DistributedSampler(train_data)\n",
    "#     train_dataloader = DataLoader(train_data, sampler=train_sampler, batch_size=train_batch_size)\n",
    "#     model.train()\n",
    "#     for epo in trange(int(num_train_epochs), desc=\"Epoch\"):\n",
    "#         tr_loss = 0\n",
    "#         nb_tr_examples, nb_tr_steps = 0, 0\n",
    "#         for step, batch in enumerate(train_dataloader):\n",
    "#             batch = tuple(t.to(device) for t in batch)\n",
    "#             input_ids, input_mask, segment_ids, label_ids = batch\n",
    "#             loss, logits = model(input_ids, segment_ids, input_mask, label_ids)\n",
    "#             if n_gpu > 1:\n",
    "#                 loss = loss.mean() # mean() to average on multi-gpu.\n",
    "#             if gradient_accumulation_steps > 1:\n",
    "#                 loss = loss / gradient_accumulation_steps\n",
    "#             loss.backward()\n",
    "#             train_loss_history.append(loss.item())\n",
    "#             tr_loss += loss.item()\n",
    "#             nb_tr_examples += input_ids.size(0)\n",
    "#             nb_tr_steps += 1\n",
    "#             if (step + 1) % gradient_accumulation_steps == 0:\n",
    "#                 model.zero_grad()\n",
    "#                 global_step += 1\n",
    "\n",
    "#             if (step+1) % 200 == 0:\n",
    "#                 string = 'step '+str(step+1)\n",
    "#                 print (string)\n",
    "\n",
    "#         train_loss=tr_loss\n",
    "#         global_step_check=global_step\n",
    "#         number_training_steps=nb_tr_steps\n",
    "\n",
    "#     string = './pytorch_model_new_'+ readmission_mode +'.bin'\n",
    "#     torch.save(model.state_dict(), string)\n",
    "\n",
    "#     fig1 = plt.figure()\n",
    "#     plt.plot(train_loss_history)\n",
    "#     fig1.savefig('loss_history.png', dpi=fig1.dpi)"
   ]
  },
  {
   "cell_type": "code",
   "execution_count": 42,
   "metadata": {},
   "outputs": [],
   "source": [
    "from torch import nn # Base class for all neural network modules"
   ]
  },
  {
   "cell_type": "code",
   "execution_count": 45,
   "metadata": {},
   "outputs": [],
   "source": [
    "from sklearn.metrics import roc_auc_score, precision_recall_curve, roc_curve, auc, confusion_matrix, classification_report\n",
    "#from sklearn.utils.fixes import signature\n",
    "from funcsigs import signature"
   ]
  },
  {
   "cell_type": "code",
   "execution_count": 46,
   "metadata": {},
   "outputs": [],
   "source": [
    "readmission_mode = 'early'"
   ]
  },
  {
   "cell_type": "code",
   "execution_count": 47,
   "metadata": {},
   "outputs": [],
   "source": [
    "def vote_score(df, score, readmission_mode, output_dir):\n",
    "    df['pred_score'] = score\n",
    "    df_sort = df.sort_values(by=['ID'])\n",
    "    #score \n",
    "    temp = (df_sort.groupby(['ID'])['pred_score'].agg(max)+df_sort.groupby(['ID'])['pred_score'].agg(sum)/2)/(1+df_sort.groupby(['ID'])['pred_score'].agg(len)/2)\n",
    "    x = df_sort.groupby(['ID'])['Label'].agg(np.min).values\n",
    "    df_out = pd.DataFrame({'logits': temp.values, 'ID': x})\n",
    "\n",
    "    fpr, tpr, thresholds = roc_curve(x, temp.values)\n",
    "    auc_score = auc(fpr, tpr)\n",
    "\n",
    "    plt.figure(1)\n",
    "    plt.plot([0, 1], [0, 1], 'k--')\n",
    "    plt.plot(fpr, tpr, label='Val (area = {:.3f})'.format(auc_score))\n",
    "    plt.xlabel('False positive rate')\n",
    "    plt.ylabel('True positive rate')\n",
    "    plt.title('ROC curve')\n",
    "    plt.legend(loc='best')\n",
    "    plt.show()\n",
    "    string = 'auroc_clinicalbert_'+readmission_mode+'.png'\n",
    "    plt.savefig(os.path.join(output_dir, string))\n",
    "\n",
    "    return fpr, tpr, df_out"
   ]
  },
  {
   "cell_type": "code",
   "execution_count": 48,
   "metadata": {},
   "outputs": [],
   "source": [
    "def pr_curve_plot(y, y_score, readmission_mode, output_dir):\n",
    "    precision, recall, _ = precision_recall_curve(y, y_score)\n",
    "    area = auc(recall,precision)\n",
    "    step_kwargs = ({'step': 'post'}\n",
    "                   if 'step' in signature(plt.fill_between).parameters\n",
    "                   else {})\n",
    "    \n",
    "    plt.figure(2)\n",
    "    plt.step(recall, precision, color='b', alpha=0.2,\n",
    "             where='post')\n",
    "    plt.fill_between(recall, precision, alpha=0.2, color='b', **step_kwargs)\n",
    "    plt.xlabel('Recall')\n",
    "    plt.ylabel('Precision')\n",
    "    plt.ylim([0.0, 1.05])\n",
    "    plt.xlim([0.0, 1.0])\n",
    "    plt.title('Precision-Recall curve: AUC={0:0.2f}'.format(area))\n",
    "    \n",
    "    string = 'auprc_clinicalbert_'+readmission_mode+'.png'\n",
    "\n",
    "    plt.savefig(os.path.join(output_dir, string))"
   ]
  },
  {
   "cell_type": "code",
   "execution_count": 49,
   "metadata": {},
   "outputs": [],
   "source": [
    "def vote_pr_curve(df, score, readmission_mode, output_dir):\n",
    "    df['pred_score'] = score\n",
    "    df_sort = df.sort_values(by=['ID'])\n",
    "    #score \n",
    "    temp = (df_sort.groupby(['ID'])['pred_score'].agg(max)+df_sort.groupby(['ID'])['pred_score'].agg(sum)/2)/(1+df_sort.groupby(['ID'])['pred_score'].agg(len)/2)\n",
    "    y = df_sort.groupby(['ID'])['Label'].agg(np.min).values\n",
    "    \n",
    "    precision, recall, thres = precision_recall_curve(y, temp)\n",
    "    pr_thres = pd.DataFrame(data =  list(zip(precision, recall, thres)), columns = ['prec','recall','thres'])\n",
    "    vote_df = pd.DataFrame(data =  list(zip(temp, y)), columns = ['score','label'])\n",
    "    \n",
    "    pr_curve_plot(y, temp, readmission_mode, output_dir)\n",
    "    \n",
    "    temp = pr_thres[pr_thres.prec > 0.799999].reset_index()\n",
    "    \n",
    "    rp80 = 0\n",
    "    if temp.size == 0:\n",
    "        print('Test Sample too small or RP80=0')\n",
    "    else:\n",
    "        rp80 = temp.iloc[0].recall\n",
    "        print('Recall at Precision of 80 is {}', rp80)\n",
    "\n",
    "    return rp80"
   ]
  },
  {
   "cell_type": "code",
   "execution_count": 50,
   "metadata": {},
   "outputs": [],
   "source": [
    "def _truncate_seq_pair(tokens_a, tokens_b, max_length):\n",
    "    \"\"\"Truncates a sequence pair in place to the maximum length.\"\"\"\n",
    "\n",
    "    # This is a simple heuristic which will always truncate the longer sequence\n",
    "    # one token at a time. This makes more sense than truncating an equal percent\n",
    "    # of tokens from each, since if one sequence is very short then each token\n",
    "    # that's truncated likely contains more information than a longer sequence.\n",
    "    while True:\n",
    "        total_length = len(tokens_a) + len(tokens_b)\n",
    "        if total_length <= max_length:\n",
    "            break\n",
    "        if len(tokens_a) > len(tokens_b):\n",
    "            tokens_a.pop()\n",
    "        else:\n",
    "            tokens_b.pop()"
   ]
  },
  {
   "cell_type": "code",
   "execution_count": 51,
   "metadata": {},
   "outputs": [],
   "source": [
    "class InputFeatures(object):\n",
    "    \"\"\"A single set of features of data.\"\"\"\n",
    "\n",
    "    def __init__(self, input_ids, input_mask, segment_ids, label_id):\n",
    "        self.input_ids = input_ids\n",
    "        self.input_mask = input_mask\n",
    "        self.segment_ids = segment_ids\n",
    "        self.label_id = label_id"
   ]
  },
  {
   "cell_type": "code",
   "execution_count": 52,
   "metadata": {},
   "outputs": [],
   "source": [
    "def convert_examples_to_features(examples, label_list, max_seq_length, tokenizer):\n",
    "    \"\"\"Loads a data file into a list of `InputBatch`s.\"\"\"\n",
    "\n",
    "    label_map = {}\n",
    "    for (i, label) in enumerate(label_list):\n",
    "        label_map[label] = i\n",
    "\n",
    "    features = []\n",
    "    for (ex_index, example) in enumerate(examples):\n",
    "        tokens_a = tokenizer.tokenize(example.text_a)\n",
    "\n",
    "        tokens_b = None\n",
    "        if example.text_b:\n",
    "            tokens_b = tokenizer.tokenize(example.text_b)\n",
    "\n",
    "        if tokens_b:\n",
    "            # Modifies `tokens_a` and `tokens_b` in place so that the total\n",
    "            # length is less than the specified length.\n",
    "            # Account for [CLS], [SEP], [SEP] with \"- 3\"\n",
    "            _truncate_seq_pair(tokens_a, tokens_b, max_seq_length - 3)\n",
    "        else:\n",
    "            # Account for [CLS] and [SEP] with \"- 2\"\n",
    "            if len(tokens_a) > max_seq_length - 2:\n",
    "                tokens_a = tokens_a[0:(max_seq_length - 2)]\n",
    "\n",
    "        # The convention in BERT is:\n",
    "        # (a) For sequence pairs:\n",
    "        #  tokens:   [CLS] is this jack ##son ##ville ? [SEP] no it is not . [SEP]\n",
    "        #  type_ids: 0   0  0    0    0     0       0 0    1  1  1  1   1 1\n",
    "        # (b) For single sequences:\n",
    "        #  tokens:   [CLS] the dog is hairy . [SEP]\n",
    "        #  type_ids: 0   0   0   0  0     0 0\n",
    "        #\n",
    "        # Where \"type_ids\" are used to indicate whether this is the first\n",
    "        # sequence or the second sequence. The embedding vectors for `type=0` and\n",
    "        # `type=1` were learned during pre-training and are added to the wordpiece\n",
    "        # embedding vector (and position vector). This is not *strictly* necessary\n",
    "        # since the [SEP] token unambigiously separates the sequences, but it makes\n",
    "        # it easier for the model to learn the concept of sequences.\n",
    "        #\n",
    "        # For classification tasks, the first vector (corresponding to [CLS]) is\n",
    "        # used as as the \"sentence vector\". Note that this only makes sense because\n",
    "        # the entire model is fine-tuned.\n",
    "        tokens = []\n",
    "        segment_ids = []\n",
    "        tokens.append(\"[CLS]\")\n",
    "        segment_ids.append(0)\n",
    "        for token in tokens_a:\n",
    "            tokens.append(token)\n",
    "            segment_ids.append(0)\n",
    "        tokens.append(\"[SEP]\")\n",
    "        segment_ids.append(0)\n",
    "\n",
    "        if tokens_b:\n",
    "            for token in tokens_b:\n",
    "                tokens.append(token)\n",
    "                segment_ids.append(1)\n",
    "            tokens.append(\"[SEP]\")\n",
    "            segment_ids.append(1)\n",
    "\n",
    "        input_ids = tokenizer.convert_tokens_to_ids(tokens)\n",
    "\n",
    "        # The mask has 1 for real tokens and 0 for padding tokens. Only real tokens are attended to.\n",
    "        input_mask = [1] * len(input_ids)\n",
    "\n",
    "        # Zero-pad up to the sequence length.\n",
    "        while len(input_ids) < max_seq_length:\n",
    "            input_ids.append(0)\n",
    "            input_mask.append(0)\n",
    "            segment_ids.append(0)\n",
    "\n",
    "        assert len(input_ids) == max_seq_length\n",
    "        assert len(input_mask) == max_seq_length\n",
    "        assert len(segment_ids) == max_seq_length\n",
    "        #print (example.label)\n",
    "        label_id = label_map[example.label]\n",
    "        if ex_index < 5:\n",
    "            logger.info(\"*** Example ***\")\n",
    "            logger.info(\"guid: %s\" % (example.guid))\n",
    "            logger.info(\"tokens: %s\" % \" \".join(\n",
    "                    [str(x) for x in tokens]))\n",
    "            logger.info(\"input_ids: %s\" % \" \".join([str(x) for x in input_ids]))\n",
    "            logger.info(\"input_mask: %s\" % \" \".join([str(x) for x in input_mask]))\n",
    "            logger.info(\n",
    "                    \"segment_ids: %s\" % \" \".join([str(x) for x in segment_ids]))\n",
    "            logger.info(\"label: %s (id = %d)\" % (example.label, label_id))\n",
    "\n",
    "        features.append(\n",
    "                InputFeatures(input_ids=input_ids,\n",
    "                              input_mask=input_mask,\n",
    "                              segment_ids=segment_ids,\n",
    "                              label_id=label_id))\n",
    "    return features\n",
    "\n"
   ]
  },
  {
   "cell_type": "markdown",
   "metadata": {},
   "source": [
    "`max_seq_length` is the maximum total input sequence length after WordPiece tokenization. Sequences longer than this will be truncated, and sequences shorter than this will be padded.\n",
    "\n",
    "`eval_batch_size` is the total batch size for eval."
   ]
  },
  {
   "cell_type": "code",
   "execution_count": 53,
   "metadata": {},
   "outputs": [],
   "source": [
    "max_seq_length = 128\n",
    "eval_batch_size = 2"
   ]
  },
  {
   "cell_type": "code",
   "execution_count": 54,
   "metadata": {},
   "outputs": [],
   "source": [
    "from torch.utils.data import TensorDataset, DataLoader, RandomSampler, SequentialSampler\n",
    "from torch.utils.data.distributed import DistributedSampler"
   ]
  },
  {
   "cell_type": "code",
   "execution_count": 61,
   "metadata": {},
   "outputs": [
    {
     "name": "stderr",
     "output_type": "stream",
     "text": [
      "10/14/2023 22:17:56 - INFO - __main__ -   *** Example ***\n",
      "10/14/2023 22:17:56 - INFO - __main__ -   guid: test-0\n",
      "10/14/2023 22:17:56 - INFO - __main__ -   tokens: [CLS] sin ##us ta ##chy ##card ##ia . generalized low voltage . delayed r wave progression with late pre ##cor ##dial q ##rs transition . findings are non - specific . clinical correlation is suggested . since the previous tracing of same date sin ##us ta ##chy ##card ##ia rate is faster . tracing # 1 sin ##us rhythm . delayed r wave progression with late pre ##cor ##dial q ##rs transition . generalized low q ##rs voltage . findings are non - specific . clinical correlation is suggested . since the previous tracing of the rate is faster and voltage is lower . title : 45 y / o man with h ##x of et ##oh ci ##rr ##hosis who arrived for planned liver transplant . [SEP]\n",
      "10/14/2023 22:17:56 - INFO - __main__ -   input_ids: 101 8254 2271 11937 11714 11522 2401 1012 18960 2659 10004 1012 8394 1054 4400 14967 2007 2397 3653 27108 27184 1053 2869 6653 1012 9556 2024 2512 1011 3563 1012 6612 16902 2003 4081 1012 2144 1996 3025 16907 1997 2168 3058 8254 2271 11937 11714 11522 2401 3446 2003 5514 1012 16907 1001 1015 8254 2271 6348 1012 8394 1054 4400 14967 2007 2397 3653 27108 27184 1053 2869 6653 1012 18960 2659 1053 2869 10004 1012 9556 2024 2512 1011 3563 1012 6612 16902 2003 4081 1012 2144 1996 3025 16907 1997 1996 3446 2003 5514 1998 10004 2003 2896 1012 2516 1024 3429 1061 1013 1051 2158 2007 1044 2595 1997 3802 11631 25022 12171 25229 2040 3369 2005 3740 11290 22291 1012 102\n",
      "10/14/2023 22:17:56 - INFO - __main__ -   input_mask: 1 1 1 1 1 1 1 1 1 1 1 1 1 1 1 1 1 1 1 1 1 1 1 1 1 1 1 1 1 1 1 1 1 1 1 1 1 1 1 1 1 1 1 1 1 1 1 1 1 1 1 1 1 1 1 1 1 1 1 1 1 1 1 1 1 1 1 1 1 1 1 1 1 1 1 1 1 1 1 1 1 1 1 1 1 1 1 1 1 1 1 1 1 1 1 1 1 1 1 1 1 1 1 1 1 1 1 1 1 1 1 1 1 1 1 1 1 1 1 1 1 1 1 1 1 1 1 1\n",
      "10/14/2023 22:17:56 - INFO - __main__ -   segment_ids: 0 0 0 0 0 0 0 0 0 0 0 0 0 0 0 0 0 0 0 0 0 0 0 0 0 0 0 0 0 0 0 0 0 0 0 0 0 0 0 0 0 0 0 0 0 0 0 0 0 0 0 0 0 0 0 0 0 0 0 0 0 0 0 0 0 0 0 0 0 0 0 0 0 0 0 0 0 0 0 0 0 0 0 0 0 0 0 0 0 0 0 0 0 0 0 0 0 0 0 0 0 0 0 0 0 0 0 0 0 0 0 0 0 0 0 0 0 0 0 0 0 0 0 0 0 0 0 0\n",
      "10/14/2023 22:17:56 - INFO - __main__ -   label: 1 (id = 1)\n",
      "10/14/2023 22:17:56 - INFO - __main__ -   *** Example ***\n",
      "10/14/2023 22:17:56 - INFO - __main__ -   guid: test-1\n",
      "10/14/2023 22:17:56 - INFO - __main__ -   tokens: [CLS] pa and lateral chest radio ##graphs . comparison : compared to radio ##graph from . findings : heart size is moderately enlarged , similar to prior study . there is mild pulmonary vascular redistribution . there is stable small left pl ##eur ##al e ##ff ##usion . interval removal of right pic ##c line . impression : card ##iom ##ega ##ly . no pneumonia . small left pl ##eur ##al e ##ff ##usion . 11 : 26 pm chest ( portable ap ) ; - 76 by same physician # reason : s / p ol ##t . eva ##l for collapse , over ##load admitting diagnosis : liver tx medical condition : 45 year old man des ##at ##uration ##s , int ##uba ##ted reason [SEP]\n",
      "10/14/2023 22:17:56 - INFO - __main__ -   input_ids: 101 6643 1998 11457 3108 2557 27341 1012 7831 1024 4102 2000 2557 14413 2013 1012 9556 1024 2540 2946 2003 17844 11792 1010 2714 2000 3188 2817 1012 2045 2003 10256 21908 21449 25707 1012 2045 2003 6540 2235 2187 20228 11236 2389 1041 4246 14499 1012 13483 8208 1997 2157 27263 2278 2240 1012 8605 1024 4003 18994 29107 2135 1012 2053 18583 1012 2235 2187 20228 11236 2389 1041 4246 14499 1012 2340 1024 2656 7610 3108 1006 12109 9706 1007 1025 1011 6146 2011 2168 7522 1001 3114 1024 1055 1013 1052 19330 2102 1012 9345 2140 2005 7859 1010 2058 11066 17927 11616 1024 11290 19067 2966 4650 1024 3429 2095 2214 2158 4078 4017 18924 2015 1010 20014 19761 3064 3114 102\n",
      "10/14/2023 22:17:56 - INFO - __main__ -   input_mask: 1 1 1 1 1 1 1 1 1 1 1 1 1 1 1 1 1 1 1 1 1 1 1 1 1 1 1 1 1 1 1 1 1 1 1 1 1 1 1 1 1 1 1 1 1 1 1 1 1 1 1 1 1 1 1 1 1 1 1 1 1 1 1 1 1 1 1 1 1 1 1 1 1 1 1 1 1 1 1 1 1 1 1 1 1 1 1 1 1 1 1 1 1 1 1 1 1 1 1 1 1 1 1 1 1 1 1 1 1 1 1 1 1 1 1 1 1 1 1 1 1 1 1 1 1 1 1 1\n",
      "10/14/2023 22:17:56 - INFO - __main__ -   segment_ids: 0 0 0 0 0 0 0 0 0 0 0 0 0 0 0 0 0 0 0 0 0 0 0 0 0 0 0 0 0 0 0 0 0 0 0 0 0 0 0 0 0 0 0 0 0 0 0 0 0 0 0 0 0 0 0 0 0 0 0 0 0 0 0 0 0 0 0 0 0 0 0 0 0 0 0 0 0 0 0 0 0 0 0 0 0 0 0 0 0 0 0 0 0 0 0 0 0 0 0 0 0 0 0 0 0 0 0 0 0 0 0 0 0 0 0 0 0 0 0 0 0 0 0 0 0 0 0 0\n",
      "10/14/2023 22:17:56 - INFO - __main__ -   label: 1 (id = 1)\n",
      "10/14/2023 22:17:56 - INFO - __main__ -   *** Example ***\n",
      "10/14/2023 22:17:56 - INFO - __main__ -   guid: test-2\n",
      "10/14/2023 22:17:56 - INFO - __main__ -   tokens: [CLS] cat ##het ##er projects over the right vent ##ric ##le below the out ##flow tract . no media ##sti ##nal widening or app ##re ##cia ##ble pl ##eur ##al e ##ff ##usion . no p ##ne ##um ##otho ##ra ##x . et tube is at the thor ##ac ##ic inlet . sin ##us rhythm with border ##line sin ##us ta ##chy ##card ##ia . generalized low voltage . delayed r wave progression with late pre ##cor ##dial q ##rs transition . findings are non - specific . clinical correlation is suggested . since the previous tracing of sin ##us ta ##chy ##card ##ia rate is slower and right pre ##cor ##dial lead t wave changes appear more prominent . tracing # 2 renal failure , acute [SEP]\n",
      "10/14/2023 22:17:56 - INFO - __main__ -   input_ids: 101 4937 27065 2121 3934 2058 1996 2157 18834 7277 2571 2917 1996 2041 12314 12859 1012 2053 2865 16643 12032 17973 2030 10439 2890 7405 3468 20228 11236 2389 1041 4246 14499 1012 2053 1052 2638 2819 29288 2527 2595 1012 3802 7270 2003 2012 1996 15321 6305 2594 15824 1012 8254 2271 6348 2007 3675 4179 8254 2271 11937 11714 11522 2401 1012 18960 2659 10004 1012 8394 1054 4400 14967 2007 2397 3653 27108 27184 1053 2869 6653 1012 9556 2024 2512 1011 3563 1012 6612 16902 2003 4081 1012 2144 1996 3025 16907 1997 8254 2271 11937 11714 11522 2401 3446 2003 12430 1998 2157 3653 27108 27184 2599 1056 4400 3431 3711 2062 4069 1012 16907 1001 1016 25125 4945 1010 11325 102\n",
      "10/14/2023 22:17:56 - INFO - __main__ -   input_mask: 1 1 1 1 1 1 1 1 1 1 1 1 1 1 1 1 1 1 1 1 1 1 1 1 1 1 1 1 1 1 1 1 1 1 1 1 1 1 1 1 1 1 1 1 1 1 1 1 1 1 1 1 1 1 1 1 1 1 1 1 1 1 1 1 1 1 1 1 1 1 1 1 1 1 1 1 1 1 1 1 1 1 1 1 1 1 1 1 1 1 1 1 1 1 1 1 1 1 1 1 1 1 1 1 1 1 1 1 1 1 1 1 1 1 1 1 1 1 1 1 1 1 1 1 1 1 1 1\n",
      "10/14/2023 22:17:56 - INFO - __main__ -   segment_ids: 0 0 0 0 0 0 0 0 0 0 0 0 0 0 0 0 0 0 0 0 0 0 0 0 0 0 0 0 0 0 0 0 0 0 0 0 0 0 0 0 0 0 0 0 0 0 0 0 0 0 0 0 0 0 0 0 0 0 0 0 0 0 0 0 0 0 0 0 0 0 0 0 0 0 0 0 0 0 0 0 0 0 0 0 0 0 0 0 0 0 0 0 0 0 0 0 0 0 0 0 0 0 0 0 0 0 0 0 0 0 0 0 0 0 0 0 0 0 0 0 0 0 0 0 0 0 0 0\n",
      "10/14/2023 22:17:56 - INFO - __main__ -   label: 1 (id = 1)\n",
      "10/14/2023 22:17:56 - INFO - __main__ -   *** Example ***\n",
      "10/14/2023 22:17:56 - INFO - __main__ -   guid: test-3\n",
      "10/14/2023 22:17:56 - INFO - __main__ -   tokens: [CLS] intake in products from or and here in sic ##u labs q 4 hr response : no response from fur ##ose ##mide labs showing cr taking bump from 0 to 8 plan : continue to monitor at ##n continue to monitor cr / bun / renal function respiratory failure , acute ( not ar ##ds / ) assessment : pt initially on ac 850 ##x ##14 , 40 % from or an ##esthesia settings ab ##gs getting more al ##kal ##otic post - fur ##ose ##mide doses o ##2 sat ##s ~ 95 % - 97 % briefly dropping o ##2 sat ##s ~ 90 and not rebound ##ing with su ##ction action : ab ##gs drawn q ##2 rt in to evaluate pt with drop [SEP]\n",
      "10/14/2023 22:17:56 - INFO - __main__ -   input_ids: 101 13822 1999 3688 2013 2030 1998 2182 1999 14387 2226 13625 1053 1018 17850 3433 1024 2053 3433 2013 6519 9232 24284 13625 4760 13675 2635 16906 2013 1014 2000 1022 2933 1024 3613 2000 8080 2012 2078 3613 2000 8080 13675 1013 21122 1013 25125 3853 16464 4945 1010 11325 1006 2025 12098 5104 1013 1007 7667 1024 13866 3322 2006 9353 15678 2595 16932 1010 2871 1003 2013 2030 2019 25344 10906 11113 5620 2893 2062 2632 12902 20214 2695 1011 6519 9232 24284 21656 1051 2475 2938 2015 1066 5345 1003 1011 5989 1003 4780 7510 1051 2475 2938 2015 1066 3938 1998 2025 27755 2075 2007 10514 7542 2895 1024 11113 5620 4567 1053 2475 19387 1999 2000 16157 13866 2007 4530 102\n",
      "10/14/2023 22:17:56 - INFO - __main__ -   input_mask: 1 1 1 1 1 1 1 1 1 1 1 1 1 1 1 1 1 1 1 1 1 1 1 1 1 1 1 1 1 1 1 1 1 1 1 1 1 1 1 1 1 1 1 1 1 1 1 1 1 1 1 1 1 1 1 1 1 1 1 1 1 1 1 1 1 1 1 1 1 1 1 1 1 1 1 1 1 1 1 1 1 1 1 1 1 1 1 1 1 1 1 1 1 1 1 1 1 1 1 1 1 1 1 1 1 1 1 1 1 1 1 1 1 1 1 1 1 1 1 1 1 1 1 1 1 1 1 1\n",
      "10/14/2023 22:17:56 - INFO - __main__ -   segment_ids: 0 0 0 0 0 0 0 0 0 0 0 0 0 0 0 0 0 0 0 0 0 0 0 0 0 0 0 0 0 0 0 0 0 0 0 0 0 0 0 0 0 0 0 0 0 0 0 0 0 0 0 0 0 0 0 0 0 0 0 0 0 0 0 0 0 0 0 0 0 0 0 0 0 0 0 0 0 0 0 0 0 0 0 0 0 0 0 0 0 0 0 0 0 0 0 0 0 0 0 0 0 0 0 0 0 0 0 0 0 0 0 0 0 0 0 0 0 0 0 0 0 0 0 0 0 0 0 0\n",
      "10/14/2023 22:17:56 - INFO - __main__ -   label: 1 (id = 1)\n",
      "10/14/2023 22:17:56 - INFO - __main__ -   *** Example ***\n",
      "10/14/2023 22:17:56 - INFO - __main__ -   guid: test-4\n",
      "10/14/2023 22:17:56 - INFO - __main__ -   tokens: [CLS] hc ##t > 30 ) trans ##fus ##e pt according to goals ? additional pr ##bc ##s to treat hc ##t ~ 26 - 27 for goal > 30 continue pathway sic ##u hp ##i : 45 ##yo m w / et ##oh ci ##rr ##hosis , mel ##d 28 , child class c ci ##rr ##hosis admitted for liver transplant . denies change in health since previous admission 8 / . admitted to for fever ##s , an ##emia , as ##cite ##s , ar ##f . hospital course , treated w / z ##os ##yn for c . per ##fr ##ingen ##s ba ##cter ##emia . para ##cent ##esis negative for sb ##p . e ##g ##d w / grade i var ##ices . [SEP]\n",
      "10/14/2023 22:17:56 - INFO - __main__ -   input_ids: 101 16731 2102 1028 2382 1007 9099 25608 2063 13866 2429 2000 3289 1029 3176 10975 9818 2015 2000 7438 16731 2102 1066 2656 1011 2676 2005 3125 1028 2382 3613 12732 14387 2226 6522 2072 1024 3429 7677 1049 1059 1013 3802 11631 25022 12171 25229 1010 11463 2094 2654 1010 2775 2465 1039 25022 12171 25229 4914 2005 11290 22291 1012 23439 2689 1999 2740 2144 3025 9634 1022 1013 1012 4914 2000 2005 9016 2015 1010 2019 17577 1010 2004 17847 2015 1010 12098 2546 1012 2902 2607 1010 5845 1059 1013 1062 2891 6038 2005 1039 1012 2566 19699 15542 2015 8670 21162 17577 1012 11498 13013 19009 4997 2005 24829 2361 1012 1041 2290 2094 1059 1013 3694 1045 13075 23522 1012 102\n",
      "10/14/2023 22:17:56 - INFO - __main__ -   input_mask: 1 1 1 1 1 1 1 1 1 1 1 1 1 1 1 1 1 1 1 1 1 1 1 1 1 1 1 1 1 1 1 1 1 1 1 1 1 1 1 1 1 1 1 1 1 1 1 1 1 1 1 1 1 1 1 1 1 1 1 1 1 1 1 1 1 1 1 1 1 1 1 1 1 1 1 1 1 1 1 1 1 1 1 1 1 1 1 1 1 1 1 1 1 1 1 1 1 1 1 1 1 1 1 1 1 1 1 1 1 1 1 1 1 1 1 1 1 1 1 1 1 1 1 1 1 1 1 1\n",
      "10/14/2023 22:17:56 - INFO - __main__ -   segment_ids: 0 0 0 0 0 0 0 0 0 0 0 0 0 0 0 0 0 0 0 0 0 0 0 0 0 0 0 0 0 0 0 0 0 0 0 0 0 0 0 0 0 0 0 0 0 0 0 0 0 0 0 0 0 0 0 0 0 0 0 0 0 0 0 0 0 0 0 0 0 0 0 0 0 0 0 0 0 0 0 0 0 0 0 0 0 0 0 0 0 0 0 0 0 0 0 0 0 0 0 0 0 0 0 0 0 0 0 0 0 0 0 0 0 0 0 0 0 0 0 0 0 0 0 0 0 0 0 0\n",
      "10/14/2023 22:17:56 - INFO - __main__ -   label: 1 (id = 1)\n",
      "10/14/2023 22:18:04 - INFO - __main__ -   ***** Running evaluation *****\n",
      "10/14/2023 22:18:04 - INFO - __main__ -     Num examples = 4054\n",
      "10/14/2023 22:18:04 - INFO - __main__ -     Batch size = 2\n",
      "100%|███████████████████████████████████████████████████████████████████████████████████████████████████████████████████████████████████████████████████| 2027/2027 [01:36<00:00, 20.92it/s]\n",
      "/var/folders/y_/834fx6dn3jj2fk1kcymz3mmm0000gn/T/ipykernel_1629/928663973.py:5: FutureWarning: The provided callable <built-in function max> is currently using SeriesGroupBy.max. In a future version of pandas, the provided callable will be used directly. To keep current behavior pass the string \"max\" instead.\n",
      "  temp = (df_sort.groupby(['ID'])['pred_score'].agg(max)+df_sort.groupby(['ID'])['pred_score'].agg(sum)/2)/(1+df_sort.groupby(['ID'])['pred_score'].agg(len)/2)\n",
      "/var/folders/y_/834fx6dn3jj2fk1kcymz3mmm0000gn/T/ipykernel_1629/928663973.py:5: FutureWarning: The provided callable <built-in function sum> is currently using SeriesGroupBy.sum. In a future version of pandas, the provided callable will be used directly. To keep current behavior pass the string \"sum\" instead.\n",
      "  temp = (df_sort.groupby(['ID'])['pred_score'].agg(max)+df_sort.groupby(['ID'])['pred_score'].agg(sum)/2)/(1+df_sort.groupby(['ID'])['pred_score'].agg(len)/2)\n",
      "/var/folders/y_/834fx6dn3jj2fk1kcymz3mmm0000gn/T/ipykernel_1629/928663973.py:6: FutureWarning: The provided callable <function min at 0x10865e7a0> is currently using SeriesGroupBy.min. In a future version of pandas, the provided callable will be used directly. To keep current behavior pass the string \"min\" instead.\n",
      "  x = df_sort.groupby(['ID'])['Label'].agg(np.min).values\n"
     ]
    },
    {
     "data": {
      "image/png": "[encoded data removed]",
      "text/plain": [
       "<Figure size 640x480 with 1 Axes>"
      ]
     },
     "metadata": {},
     "output_type": "display_data"
    },
    {
     "name": "stderr",
     "output_type": "stream",
     "text": [
      "/var/folders/y_/834fx6dn3jj2fk1kcymz3mmm0000gn/T/ipykernel_1629/3065105991.py:5: FutureWarning: The provided callable <built-in function max> is currently using SeriesGroupBy.max. In a future version of pandas, the provided callable will be used directly. To keep current behavior pass the string \"max\" instead.\n",
      "  temp = (df_sort.groupby(['ID'])['pred_score'].agg(max)+df_sort.groupby(['ID'])['pred_score'].agg(sum)/2)/(1+df_sort.groupby(['ID'])['pred_score'].agg(len)/2)\n",
      "/var/folders/y_/834fx6dn3jj2fk1kcymz3mmm0000gn/T/ipykernel_1629/3065105991.py:5: FutureWarning: The provided callable <built-in function sum> is currently using SeriesGroupBy.sum. In a future version of pandas, the provided callable will be used directly. To keep current behavior pass the string \"sum\" instead.\n",
      "  temp = (df_sort.groupby(['ID'])['pred_score'].agg(max)+df_sort.groupby(['ID'])['pred_score'].agg(sum)/2)/(1+df_sort.groupby(['ID'])['pred_score'].agg(len)/2)\n",
      "/var/folders/y_/834fx6dn3jj2fk1kcymz3mmm0000gn/T/ipykernel_1629/3065105991.py:6: FutureWarning: The provided callable <function min at 0x10865e7a0> is currently using SeriesGroupBy.min. In a future version of pandas, the provided callable will be used directly. To keep current behavior pass the string \"min\" instead.\n",
      "  y = df_sort.groupby(['ID'])['Label'].agg(np.min).values\n",
      "10/14/2023 22:19:41 - INFO - __main__ -   ***** Eval results *****\n",
      "10/14/2023 22:19:41 - INFO - __main__ -     RP80 = 0.38686131386861317\n",
      "10/14/2023 22:19:41 - INFO - __main__ -     eval_accuracy = 0.6255550074000986\n",
      "10/14/2023 22:19:41 - INFO - __main__ -     eval_loss = 0.630288913246882\n",
      "10/14/2023 22:19:41 - INFO - __main__ -     global_step = 0\n",
      "10/14/2023 22:19:41 - INFO - __main__ -     training loss = 100000.0\n"
     ]
    },
    {
     "name": "stdout",
     "output_type": "stream",
     "text": [
      "Recall at Precision of 80 is {} 0.38686131386861317\n"
     ]
    },
    {
     "data": {
      "text/plain": [
       "<Figure size 640x480 with 0 Axes>"
      ]
     },
     "metadata": {},
     "output_type": "display_data"
    },
    {
     "data": {
      "image/png": "[encoded data removed]",
      "text/plain": [
       "<Figure size 640x480 with 1 Axes>"
      ]
     },
     "metadata": {},
     "output_type": "display_data"
    }
   ],
   "source": [
    "m = nn.Sigmoid()\n",
    "if do_eval:\n",
    "    eval_examples = processor.get_test_examples(data_dir)\n",
    "    eval_features = convert_examples_to_features(\n",
    "        eval_examples, label_list, max_seq_length, tokenizer)\n",
    "    logger.info(\"***** Running evaluation *****\")\n",
    "    logger.info(\"  Num examples = %d\", len(eval_examples))\n",
    "    logger.info(\"  Batch size = %d\", eval_batch_size)\n",
    "    all_input_ids = torch.tensor([f.input_ids for f in eval_features], dtype=torch.long)\n",
    "    all_input_mask = torch.tensor([f.input_mask for f in eval_features], dtype=torch.long)\n",
    "    all_segment_ids = torch.tensor([f.segment_ids for f in eval_features], dtype=torch.long)\n",
    "    all_label_ids = torch.tensor([f.label_id for f in eval_features], dtype=torch.long)\n",
    "    eval_data = TensorDataset(all_input_ids, all_input_mask, all_segment_ids, all_label_ids)\n",
    "    if local_rank == -1:\n",
    "        eval_sampler = SequentialSampler(eval_data)\n",
    "    else:\n",
    "        eval_sampler = DistributedSampler(eval_data)\n",
    "    eval_dataloader = DataLoader(eval_data, sampler=eval_sampler, batch_size=eval_batch_size)\n",
    "    model.eval()\n",
    "    eval_loss, eval_accuracy = 0, 0\n",
    "    nb_eval_steps, nb_eval_examples = 0, 0\n",
    "    true_labels=[]\n",
    "    pred_labels=[]\n",
    "    logits_history=[]\n",
    "    for input_ids, input_mask, segment_ids, label_ids in tqdm(eval_dataloader):\n",
    "        input_ids = input_ids.to(device)\n",
    "        input_mask = input_mask.to(device)\n",
    "        segment_ids = segment_ids.to(device)\n",
    "        label_ids = label_ids.to(device)\n",
    "        with torch.no_grad():\n",
    "            tmp_eval_loss, temp_logits = model(input_ids, segment_ids, input_mask, label_ids)\n",
    "            logits = model(input_ids,segment_ids,input_mask)\n",
    "\n",
    "        logits = torch.squeeze(m(logits)).detach().cpu().numpy()\n",
    "        label_ids = label_ids.to('cpu').numpy()\n",
    "\n",
    "        outputs = np.asarray([1 if i else 0 for i in (logits.flatten()>=0.5)])\n",
    "        tmp_eval_accuracy=np.sum(outputs == label_ids)\n",
    "\n",
    "        true_labels = true_labels + label_ids.flatten().tolist()\n",
    "        pred_labels = pred_labels + outputs.flatten().tolist()\n",
    "        logits_history = logits_history + logits.flatten().tolist()\n",
    "\n",
    "        eval_loss += tmp_eval_loss.mean().item()\n",
    "        eval_accuracy += tmp_eval_accuracy\n",
    "\n",
    "        nb_eval_examples += input_ids.size(0)\n",
    "        nb_eval_steps += 1\n",
    "\n",
    "    eval_loss = eval_loss / nb_eval_steps\n",
    "    eval_accuracy = eval_accuracy / nb_eval_examples\n",
    "    df = pd.DataFrame({'logits':logits_history, 'pred_label': pred_labels, 'label':true_labels})\n",
    "\n",
    "    string = 'logits_clinicalbert_'+readmission_mode+'_chunks.csv'\n",
    "    df.to_csv(os.path.join(output_dir, string))\n",
    "\n",
    "    df_test = pd.read_csv(os.path.join(data_dir, \"test.csv\"))\n",
    "\n",
    "    fpr, tpr, df_out = vote_score(df_test, logits_history, readmission_mode, output_dir)\n",
    "\n",
    "    string = 'logits_clinicalbert_'+readmission_mode+'_readmissions.csv'\n",
    "    df_out.to_csv(os.path.join(output_dir,string))\n",
    "\n",
    "    rp80 = vote_pr_curve(df_test, logits_history, readmission_mode, output_dir)\n",
    "\n",
    "    result = {'eval_loss': eval_loss,\n",
    "              'eval_accuracy': eval_accuracy,                 \n",
    "              'global_step': global_step_check,\n",
    "              'training loss': train_loss/number_training_steps,\n",
    "              'RP80': rp80}\n",
    "\n",
    "    output_eval_file = os.path.join(output_dir, \"eval_results.txt\")\n",
    "    with open(output_eval_file, \"w\") as writer:\n",
    "        logger.info(\"***** Eval results *****\")\n",
    "        for key in sorted(result.keys()):\n",
    "            logger.info(\"  %s = %s\", key, str(result[key]))\n",
    "            writer.write(\"%s = %s\\n\" % (key, str(result[key])))\n"
   ]
  },
  {
   "cell_type": "markdown",
   "metadata": {},
   "source": [
    "Download entire folder from AWS sagemaker to laptop:"
   ]
  },
  {
   "cell_type": "code",
   "execution_count": null,
   "metadata": {},
   "outputs": [
    {
     "name": "stdout",
     "output_type": "stream",
     "text": [
      "  adding: lost+found/ (stored 0%)\n",
      "  adding: model/ (stored 0%)\n",
      "  adding: model/early_readmission/ (stored 0%)\n",
      "  adding: model/early_readmission/pytorch_model.bin (deflated 7%)\n",
      "  adding: model/early_readmission/bert_config.json (deflated 47%)\n",
      "  adding: ClinicalBERT3.ipynb (deflated 67%)\n",
      "  adding: modeling_readmission.py (deflated 81%)\n",
      "  adding: data/ (stored 0%)\n",
      "  adding: data/3days/ (stored 0%)\n",
      "  adding: data/3days/train.csv (deflated 65%)\n",
      "  adding: data/3days/test.csv (deflated 79%)\n",
      "  adding: data/3days/val.csv (deflated 78%)\n",
      "  adding: data/discharge/ (stored 0%)\n",
      "  adding: data/discharge/train.csv (deflated 66%)\n",
      "  adding: data/discharge/test.csv (deflated 68%)\n",
      "  adding: data/discharge/val.csv (deflated 68%)\n",
      "  adding: data/2days/ (stored 0%)\n",
      "  adding: data/2days/test.csv (deflated 78%)\n",
      "  adding: pickle/ (stored 0%)\n",
      "  adding: pickle/df_less_3.pkl"
     ]
    }
   ],
   "source": [
    "!zip -r -X ClinicalBERT3_results.zip './'"
   ]
  }
 ],
 "metadata": {
  "kernelspec": {
   "display_name": "Python 3 (ipykernel)",
   "language": "python",
   "name": "python3"
  },
  "language_info": {
   "codemirror_mode": {
    "name": "ipython",
    "version": 3
   },
   "file_extension": ".py",
   "mimetype": "text/x-python",
   "name": "python",
   "nbconvert_exporter": "python",
   "pygments_lexer": "ipython3",
   "version": "3.11.5"
  },
  "varInspector": {
   "cols": {
    "lenName": 16,
    "lenType": 16,
    "lenVar": 40
   },
   "kernels_config": {
    "python": {
     "delete_cmd_postfix": "",
     "delete_cmd_prefix": "del ",
     "library": "var_list.py",
     "varRefreshCmd": "print(var_dic_list())"
    },
    "r": {
     "delete_cmd_postfix": ") ",
     "delete_cmd_prefix": "rm(",
     "library": "var_list.r",
     "varRefreshCmd": "cat(var_dic_list()) "
    }
   },
   "position": {
    "height": "472px",
    "left": "506px",
    "right": "20px",
    "top": "120px",
    "width": "742px"
   },
   "types_to_exclude": [
    "module",
    "function",
    "builtin_function_or_method",
    "instance",
    "_Feature"
   ],
   "window_display": false
  }
 },
 "nbformat": 4,
 "nbformat_minor": 4
}
